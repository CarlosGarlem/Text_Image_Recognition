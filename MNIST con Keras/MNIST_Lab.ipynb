{
 "cells": [
  {
   "cell_type": "markdown",
   "id": "6cee22c2-3b46-4ef8-a02d-e5b76f7b0e3d",
   "metadata": {},
   "source": [
    "Carlos Garcia - 21000475"
   ]
  },
  {
   "cell_type": "markdown",
   "id": "902076f6-8e01-467b-a84d-9fbc6921657a",
   "metadata": {},
   "source": [
    "### Liberias"
   ]
  },
  {
   "cell_type": "code",
   "execution_count": 1,
   "id": "7e5e5455-ac18-41cb-a0a5-a67d16dd89d7",
   "metadata": {},
   "outputs": [],
   "source": [
    "from keras.models import Sequential\n",
    "from keras.layers import Dense, Conv2D, MaxPool2D, Flatten\n",
    "from keras.initializers import GlorotUniform, GlorotNormal"
   ]
  },
  {
   "cell_type": "code",
   "execution_count": 2,
   "id": "d248e531-f46f-4e67-a216-de312c3f4412",
   "metadata": {},
   "outputs": [],
   "source": [
    "import tensorflow as tf\n",
    "import numpy as np\n",
    "import pandas as pd\n",
    "import matplotlib.pyplot as plt\n",
    "from sklearn.model_selection import train_test_split\n",
    "from sklearn.preprocessing import OneHotEncoder"
   ]
  },
  {
   "cell_type": "code",
   "execution_count": 3,
   "id": "7a10a804-0711-4a94-ae79-06edf41472a6",
   "metadata": {},
   "outputs": [
    {
     "name": "stdout",
     "output_type": "stream",
     "text": [
      "Num GPUs Available:  1\n"
     ]
    }
   ],
   "source": [
    "print(\"Num GPUs Available: \", len(tf.config.list_physical_devices('GPU')))"
   ]
  },
  {
   "cell_type": "markdown",
   "id": "1f87c734-aae4-4bc7-aa35-d614cb352c3c",
   "metadata": {},
   "source": [
    "### Datos"
   ]
  },
  {
   "cell_type": "markdown",
   "id": "274da9de-4ee1-463b-ae7e-99a8d5ae7708",
   "metadata": {},
   "source": [
    "##### Obteniendo datos"
   ]
  },
  {
   "cell_type": "code",
   "execution_count": 4,
   "id": "d72badad-4eb8-4769-8da6-582cfec176e0",
   "metadata": {},
   "outputs": [
    {
     "data": {
      "text/html": [
       "<div>\n",
       "<style scoped>\n",
       "    .dataframe tbody tr th:only-of-type {\n",
       "        vertical-align: middle;\n",
       "    }\n",
       "\n",
       "    .dataframe tbody tr th {\n",
       "        vertical-align: top;\n",
       "    }\n",
       "\n",
       "    .dataframe thead th {\n",
       "        text-align: right;\n",
       "    }\n",
       "</style>\n",
       "<table border=\"1\" class=\"dataframe\">\n",
       "  <thead>\n",
       "    <tr style=\"text-align: right;\">\n",
       "      <th></th>\n",
       "      <th>label</th>\n",
       "      <th>pixel0</th>\n",
       "      <th>pixel1</th>\n",
       "      <th>pixel2</th>\n",
       "      <th>pixel3</th>\n",
       "      <th>pixel4</th>\n",
       "      <th>pixel5</th>\n",
       "      <th>pixel6</th>\n",
       "      <th>pixel7</th>\n",
       "      <th>pixel8</th>\n",
       "      <th>...</th>\n",
       "      <th>pixel774</th>\n",
       "      <th>pixel775</th>\n",
       "      <th>pixel776</th>\n",
       "      <th>pixel777</th>\n",
       "      <th>pixel778</th>\n",
       "      <th>pixel779</th>\n",
       "      <th>pixel780</th>\n",
       "      <th>pixel781</th>\n",
       "      <th>pixel782</th>\n",
       "      <th>pixel783</th>\n",
       "    </tr>\n",
       "  </thead>\n",
       "  <tbody>\n",
       "    <tr>\n",
       "      <th>0</th>\n",
       "      <td>1</td>\n",
       "      <td>0</td>\n",
       "      <td>0</td>\n",
       "      <td>0</td>\n",
       "      <td>0</td>\n",
       "      <td>0</td>\n",
       "      <td>0</td>\n",
       "      <td>0</td>\n",
       "      <td>0</td>\n",
       "      <td>0</td>\n",
       "      <td>...</td>\n",
       "      <td>0</td>\n",
       "      <td>0</td>\n",
       "      <td>0</td>\n",
       "      <td>0</td>\n",
       "      <td>0</td>\n",
       "      <td>0</td>\n",
       "      <td>0</td>\n",
       "      <td>0</td>\n",
       "      <td>0</td>\n",
       "      <td>0</td>\n",
       "    </tr>\n",
       "    <tr>\n",
       "      <th>1</th>\n",
       "      <td>0</td>\n",
       "      <td>0</td>\n",
       "      <td>0</td>\n",
       "      <td>0</td>\n",
       "      <td>0</td>\n",
       "      <td>0</td>\n",
       "      <td>0</td>\n",
       "      <td>0</td>\n",
       "      <td>0</td>\n",
       "      <td>0</td>\n",
       "      <td>...</td>\n",
       "      <td>0</td>\n",
       "      <td>0</td>\n",
       "      <td>0</td>\n",
       "      <td>0</td>\n",
       "      <td>0</td>\n",
       "      <td>0</td>\n",
       "      <td>0</td>\n",
       "      <td>0</td>\n",
       "      <td>0</td>\n",
       "      <td>0</td>\n",
       "    </tr>\n",
       "    <tr>\n",
       "      <th>2</th>\n",
       "      <td>1</td>\n",
       "      <td>0</td>\n",
       "      <td>0</td>\n",
       "      <td>0</td>\n",
       "      <td>0</td>\n",
       "      <td>0</td>\n",
       "      <td>0</td>\n",
       "      <td>0</td>\n",
       "      <td>0</td>\n",
       "      <td>0</td>\n",
       "      <td>...</td>\n",
       "      <td>0</td>\n",
       "      <td>0</td>\n",
       "      <td>0</td>\n",
       "      <td>0</td>\n",
       "      <td>0</td>\n",
       "      <td>0</td>\n",
       "      <td>0</td>\n",
       "      <td>0</td>\n",
       "      <td>0</td>\n",
       "      <td>0</td>\n",
       "    </tr>\n",
       "    <tr>\n",
       "      <th>3</th>\n",
       "      <td>4</td>\n",
       "      <td>0</td>\n",
       "      <td>0</td>\n",
       "      <td>0</td>\n",
       "      <td>0</td>\n",
       "      <td>0</td>\n",
       "      <td>0</td>\n",
       "      <td>0</td>\n",
       "      <td>0</td>\n",
       "      <td>0</td>\n",
       "      <td>...</td>\n",
       "      <td>0</td>\n",
       "      <td>0</td>\n",
       "      <td>0</td>\n",
       "      <td>0</td>\n",
       "      <td>0</td>\n",
       "      <td>0</td>\n",
       "      <td>0</td>\n",
       "      <td>0</td>\n",
       "      <td>0</td>\n",
       "      <td>0</td>\n",
       "    </tr>\n",
       "    <tr>\n",
       "      <th>4</th>\n",
       "      <td>0</td>\n",
       "      <td>0</td>\n",
       "      <td>0</td>\n",
       "      <td>0</td>\n",
       "      <td>0</td>\n",
       "      <td>0</td>\n",
       "      <td>0</td>\n",
       "      <td>0</td>\n",
       "      <td>0</td>\n",
       "      <td>0</td>\n",
       "      <td>...</td>\n",
       "      <td>0</td>\n",
       "      <td>0</td>\n",
       "      <td>0</td>\n",
       "      <td>0</td>\n",
       "      <td>0</td>\n",
       "      <td>0</td>\n",
       "      <td>0</td>\n",
       "      <td>0</td>\n",
       "      <td>0</td>\n",
       "      <td>0</td>\n",
       "    </tr>\n",
       "  </tbody>\n",
       "</table>\n",
       "<p>5 rows × 785 columns</p>\n",
       "</div>"
      ],
      "text/plain": [
       "   label  pixel0  pixel1  pixel2  pixel3  pixel4  pixel5  pixel6  pixel7  \\\n",
       "0      1       0       0       0       0       0       0       0       0   \n",
       "1      0       0       0       0       0       0       0       0       0   \n",
       "2      1       0       0       0       0       0       0       0       0   \n",
       "3      4       0       0       0       0       0       0       0       0   \n",
       "4      0       0       0       0       0       0       0       0       0   \n",
       "\n",
       "   pixel8  ...  pixel774  pixel775  pixel776  pixel777  pixel778  pixel779  \\\n",
       "0       0  ...         0         0         0         0         0         0   \n",
       "1       0  ...         0         0         0         0         0         0   \n",
       "2       0  ...         0         0         0         0         0         0   \n",
       "3       0  ...         0         0         0         0         0         0   \n",
       "4       0  ...         0         0         0         0         0         0   \n",
       "\n",
       "   pixel780  pixel781  pixel782  pixel783  \n",
       "0         0         0         0         0  \n",
       "1         0         0         0         0  \n",
       "2         0         0         0         0  \n",
       "3         0         0         0         0  \n",
       "4         0         0         0         0  \n",
       "\n",
       "[5 rows x 785 columns]"
      ]
     },
     "execution_count": 4,
     "metadata": {},
     "output_type": "execute_result"
    }
   ],
   "source": [
    "data = pd.read_csv('./input/train.csv')\n",
    "data.head()"
   ]
  },
  {
   "cell_type": "code",
   "execution_count": 5,
   "id": "7cc17291-36bf-41db-b8fd-d0a0ddbdbf87",
   "metadata": {},
   "outputs": [
    {
     "data": {
      "text/plain": [
       "array([[1, 0, 0, 0, 0, 0, 0, 0, 0, 0, 0, 0, 0, 0, 0, 0, 0, 0, 0, 0, 0, 0,\n",
       "        0, 0, 0, 0, 0, 0],\n",
       "       [0, 0, 0, 0, 0, 0, 0, 0, 0, 0, 0, 0, 0, 0, 0, 0, 0, 0, 0, 0, 0, 0,\n",
       "        0, 0, 0, 0, 0, 0],\n",
       "       [0, 0, 0, 0, 0, 0, 0, 0, 0, 0, 0, 0, 0, 0, 0, 0, 0, 0, 0, 0, 0, 0,\n",
       "        0, 0, 0, 0, 0, 0],\n",
       "       [0, 0, 0, 0, 0, 0, 0, 0, 0, 0, 0, 0, 0, 0, 0, 0, 0, 0, 0, 0, 0, 0,\n",
       "        0, 0, 0, 0, 0, 0],\n",
       "       [0, 0, 0, 0, 0, 0, 0, 0, 0, 0, 0, 0, 0, 0, 0, 0, 0, 0, 0, 0, 0, 0,\n",
       "        0, 0, 0, 0, 0, 0]], dtype=int64)"
      ]
     },
     "execution_count": 5,
     "metadata": {},
     "output_type": "execute_result"
    }
   ],
   "source": [
    "row = data.iloc[0, :].values\n",
    "img = []\n",
    "for i in range(0, 28):\n",
    "    array = []\n",
    "    for j in range(0, 28):\n",
    "        array.append(row[i + (j*28)])\n",
    "    img.append(array)\n",
    "    \n",
    "np.array(img)[0:5]"
   ]
  },
  {
   "cell_type": "markdown",
   "id": "7c3ec1c4-734c-4eda-9f21-297206202042",
   "metadata": {},
   "source": [
    "##### Train-Test split"
   ]
  },
  {
   "cell_type": "code",
   "execution_count": 6,
   "id": "aace8d06-7573-4903-8fef-6affdfa4a127",
   "metadata": {},
   "outputs": [],
   "source": [
    "X_train, X_test, y_train, y_test = train_test_split(data.iloc[:,1:].values, data['label'].values, test_size = 0.3, random_state = 123)"
   ]
  },
  {
   "cell_type": "code",
   "execution_count": 7,
   "id": "a85778f8-0587-48ae-bb9c-f9cd7a48b8ea",
   "metadata": {},
   "outputs": [
    {
     "name": "stdout",
     "output_type": "stream",
     "text": [
      "(29400, 784)\n",
      "(29400,)\n",
      "(12600, 784)\n",
      "(12600,)\n"
     ]
    }
   ],
   "source": [
    "print(X_train.shape)\n",
    "print(y_train.shape)\n",
    "print(X_test.shape)\n",
    "print(y_test.shape)"
   ]
  },
  {
   "cell_type": "markdown",
   "id": "e9308d09-2e73-4f58-9f10-d9caa2fe6f2f",
   "metadata": {},
   "source": [
    "##### Normalizacion, encoding y reshape"
   ]
  },
  {
   "cell_type": "code",
   "execution_count": 8,
   "id": "cb40d7c8-56ed-4f37-b240-69926cdc3657",
   "metadata": {},
   "outputs": [],
   "source": [
    "X_train = X_train / 255.\n",
    "X_test = X_test / 255."
   ]
  },
  {
   "cell_type": "code",
   "execution_count": 9,
   "id": "89d2dbf4-3b1c-4656-a8ef-d013ed5356b7",
   "metadata": {},
   "outputs": [],
   "source": [
    "train_rows = X_train.shape[0]\n",
    "X_train = np.expand_dims(X_train, axis = 0)\n",
    "X_train = np.reshape(X_train, (train_rows, 28, 28, 1)) #Conv2D however expects four dimensions and this throws the error – simply because it also expects the channels dimension\n",
    "\n",
    "test_rows = X_test.shape[0]\n",
    "X_test = np.expand_dims(X_test, axis = 0)\n",
    "X_test = np.reshape(X_test, (test_rows, 28, 28, 1))\n",
    "\n",
    "y_train = np.expand_dims(y_train, axis = 1)\n",
    "y_test = np.expand_dims(y_test, axis = 1)"
   ]
  },
  {
   "cell_type": "code",
   "execution_count": 10,
   "id": "535dce68-df92-41c5-88cb-b08d4c4d8de4",
   "metadata": {},
   "outputs": [],
   "source": [
    "ohe = OneHotEncoder()\n",
    "y_train = ohe.fit_transform(y_train).toarray()\n",
    "y_test = ohe.fit_transform(y_test).toarray()"
   ]
  },
  {
   "cell_type": "code",
   "execution_count": 11,
   "id": "8ab7dd73-1a97-40b8-b9ce-5a49f536c08b",
   "metadata": {},
   "outputs": [
    {
     "name": "stdout",
     "output_type": "stream",
     "text": [
      "(29400, 28, 28, 1)\n",
      "(29400, 10)\n",
      "(12600, 28, 28, 1)\n",
      "(12600, 10)\n"
     ]
    }
   ],
   "source": [
    "print(X_train.shape)\n",
    "print(y_train.shape)\n",
    "print(X_test.shape)\n",
    "print(y_test.shape)"
   ]
  },
  {
   "cell_type": "markdown",
   "id": "953927e4-f853-430d-bc9f-bf28a973e333",
   "metadata": {},
   "source": [
    "##### Visualizacion"
   ]
  },
  {
   "cell_type": "code",
   "execution_count": 12,
   "id": "edd46175-24cf-4ff7-9d1a-b3b00dd8a3e6",
   "metadata": {},
   "outputs": [
    {
     "name": "stdout",
     "output_type": "stream",
     "text": [
      "[0. 0. 0. 0. 0. 0. 0. 0. 1. 0.]\n"
     ]
    },
    {
     "data": {
      "text/plain": [
       "<matplotlib.image.AxesImage at 0x179a4be4280>"
      ]
     },
     "execution_count": 12,
     "metadata": {},
     "output_type": "execute_result"
    },
    {
     "data": {
      "image/png": "[encoded data removed]",
      "text/plain": [
       "<Figure size 432x288 with 1 Axes>"
      ]
     },
     "metadata": {
      "needs_background": "light"
     },
     "output_type": "display_data"
    }
   ],
   "source": [
    "print(y_train[2])\n",
    "plt.imshow(X_train[2], cmap = \"gray\")"
   ]
  },
  {
   "cell_type": "code",
   "execution_count": 13,
   "id": "455abe6b-9b81-4e62-ba19-8c729511d221",
   "metadata": {},
   "outputs": [
    {
     "name": "stdout",
     "output_type": "stream",
     "text": [
      "[0. 0. 1. 0. 0. 0. 0. 0. 0. 0.]\n"
     ]
    },
    {
     "data": {
      "text/plain": [
       "<matplotlib.image.AxesImage at 0x179a4d42070>"
      ]
     },
     "execution_count": 13,
     "metadata": {},
     "output_type": "execute_result"
    },
    {
     "data": {
      "image/png": "[encoded data removed]",
      "text/plain": [
       "<Figure size 432x288 with 1 Axes>"
      ]
     },
     "metadata": {
      "needs_background": "light"
     },
     "output_type": "display_data"
    }
   ],
   "source": [
    "print(y_test[1])\n",
    "plt.imshow(X_test[1], cmap = \"gray\")"
   ]
  },
  {
   "cell_type": "markdown",
   "id": "a56c3359-57dd-4f48-8fd4-60c5db6e28b6",
   "metadata": {},
   "source": [
    "### Modelos"
   ]
  },
  {
   "cell_type": "markdown",
   "id": "3cf0b458-12ec-445e-b6ab-4cf0449d2069",
   "metadata": {},
   "source": [
    "##### Callbacks"
   ]
  },
  {
   "cell_type": "code",
   "execution_count": 14,
   "id": "ca9eba5e-7c11-4c22-a725-aed9bbb34874",
   "metadata": {},
   "outputs": [],
   "source": [
    "class myCallback(tf.keras.callbacks.Callback):\n",
    "    def on_epoch_end(self, epoch, logs={}):\n",
    "        if(logs.get('accuracy') > 0.95):\n",
    "            print(\"\\nReached 95% accuracy so cancelling training!\")\n",
    "            self.model.stop_training = True"
   ]
  },
  {
   "cell_type": "code",
   "execution_count": 15,
   "id": "7bf8501a-5a43-4f98-9a7a-a1dcb88aa3c2",
   "metadata": {},
   "outputs": [],
   "source": [
    "callbacks = myCallback()"
   ]
  },
  {
   "cell_type": "markdown",
   "id": "d654fcb9-1214-4a24-a501-b6d5530ded36",
   "metadata": {},
   "source": [
    "##### ANN"
   ]
  },
  {
   "cell_type": "code",
   "execution_count": 17,
   "id": "575f56ea-5bc7-4781-89cc-f75a6c9a5817",
   "metadata": {},
   "outputs": [],
   "source": [
    "ann = Sequential([\n",
    "    Flatten(input_shape = (28, 28, 1)),\n",
    "    Dense(units = 64, activation = 'relu', kernel_initializer = GlorotUniform()),\n",
    "    Dense(units = 10, activation = 'softmax')\n",
    "])"
   ]
  },
  {
   "cell_type": "code",
   "execution_count": 18,
   "id": "d48ceb3c-0534-4eb0-9a6c-0d9e9c33e49f",
   "metadata": {},
   "outputs": [],
   "source": [
    "ann.compile(loss = 'categorical_crossentropy', optimizer = 'adam', metrics = ['accuracy'])"
   ]
  },
  {
   "cell_type": "code",
   "execution_count": 19,
   "id": "31a45d76-a32c-4636-8762-05d9133e0eab",
   "metadata": {},
   "outputs": [
    {
     "name": "stdout",
     "output_type": "stream",
     "text": [
      "Model: \"sequential_1\"\n",
      "_________________________________________________________________\n",
      "Layer (type)                 Output Shape              Param #   \n",
      "=================================================================\n",
      "flatten_1 (Flatten)          (None, 784)               0         \n",
      "_________________________________________________________________\n",
      "dense_2 (Dense)              (None, 64)                50240     \n",
      "_________________________________________________________________\n",
      "dense_3 (Dense)              (None, 10)                650       \n",
      "=================================================================\n",
      "Total params: 50,890\n",
      "Trainable params: 50,890\n",
      "Non-trainable params: 0\n",
      "_________________________________________________________________\n"
     ]
    }
   ],
   "source": [
    "ann.summary()"
   ]
  },
  {
   "cell_type": "code",
   "execution_count": 20,
   "id": "c071491c-0cde-4935-a56f-2373b9dcf092",
   "metadata": {},
   "outputs": [
    {
     "name": "stdout",
     "output_type": "stream",
     "text": [
      "Epoch 1/10\n",
      "735/735 [==============================] - 18s 4ms/step - loss: 0.7273 - accuracy: 0.7896 - val_loss: 0.2508 - val_accuracy: 0.9265\n",
      "Epoch 2/10\n",
      "735/735 [==============================] - 3s 4ms/step - loss: 0.2263 - accuracy: 0.9367 - val_loss: 0.1908 - val_accuracy: 0.9422\n",
      "Epoch 3/10\n",
      "735/735 [==============================] - 7s 9ms/step - loss: 0.1675 - accuracy: 0.9536 - val_loss: 0.1707 - val_accuracy: 0.9481\n",
      "\n",
      "Reached 95% accuracy so cancelling training!\n",
      "Wall time: 28.2 s\n"
     ]
    }
   ],
   "source": [
    "%%time\n",
    "history = ann.fit(\n",
    "                x = X_train, \n",
    "                y = y_train,\n",
    "                epochs = 10,\n",
    "                batch_size = 32,\n",
    "                validation_split = 0.2,\n",
    "                callbacks = [callbacks]\n",
    "        )"
   ]
  },
  {
   "cell_type": "code",
   "execution_count": 21,
   "id": "0c5e7318-0e28-4d7e-ac73-bc8fa1b999d1",
   "metadata": {},
   "outputs": [],
   "source": [
    "ann.save('./models/MNIST_ann.h5')"
   ]
  },
  {
   "cell_type": "markdown",
   "id": "889b83bc-b305-46e3-abe1-631fb3362a85",
   "metadata": {},
   "source": [
    "##### CNN"
   ]
  },
  {
   "cell_type": "code",
   "execution_count": 22,
   "id": "d2fe7c60-b770-4e89-8236-e641fa3ad8b0",
   "metadata": {},
   "outputs": [],
   "source": [
    "cnn = Sequential([\n",
    "    Conv2D(filters = 16, kernel_size = (3,3), input_shape = (28, 28, 1), activation = 'relu', kernel_initializer = GlorotUniform()),\n",
    "    MaxPool2D(pool_size = (2,2)),\n",
    "    Flatten(),\n",
    "    Dense(units = 64, activation = 'relu', kernel_initializer = GlorotUniform()),\n",
    "    Dense(units = 10, activation = 'softmax')\n",
    "])"
   ]
  },
  {
   "cell_type": "code",
   "execution_count": 23,
   "id": "6443f68c-7192-4f05-90ed-081d023f4985",
   "metadata": {},
   "outputs": [],
   "source": [
    "cnn.compile(loss = 'categorical_crossentropy', optimizer = 'adam', metrics = ['accuracy'])"
   ]
  },
  {
   "cell_type": "code",
   "execution_count": 24,
   "id": "56e72c8f-196b-4885-bf66-6afdfc010c0f",
   "metadata": {},
   "outputs": [
    {
     "name": "stdout",
     "output_type": "stream",
     "text": [
      "Model: \"sequential_2\"\n",
      "_________________________________________________________________\n",
      "Layer (type)                 Output Shape              Param #   \n",
      "=================================================================\n",
      "conv2d (Conv2D)              (None, 26, 26, 16)        160       \n",
      "_________________________________________________________________\n",
      "max_pooling2d (MaxPooling2D) (None, 13, 13, 16)        0         \n",
      "_________________________________________________________________\n",
      "flatten_2 (Flatten)          (None, 2704)              0         \n",
      "_________________________________________________________________\n",
      "dense_4 (Dense)              (None, 64)                173120    \n",
      "_________________________________________________________________\n",
      "dense_5 (Dense)              (None, 10)                650       \n",
      "=================================================================\n",
      "Total params: 173,930\n",
      "Trainable params: 173,930\n",
      "Non-trainable params: 0\n",
      "_________________________________________________________________\n"
     ]
    }
   ],
   "source": [
    "cnn.summary()"
   ]
  },
  {
   "cell_type": "code",
   "execution_count": 25,
   "id": "4e1b6221-afa1-4c07-8f97-c69c54f16b6f",
   "metadata": {},
   "outputs": [
    {
     "name": "stdout",
     "output_type": "stream",
     "text": [
      "Epoch 1/10\n",
      "735/735 [==============================] - 9s 8ms/step - loss: 0.5912 - accuracy: 0.8305 - val_loss: 0.1338 - val_accuracy: 0.9594\n",
      "Epoch 2/10\n",
      "735/735 [==============================] - 6s 8ms/step - loss: 0.1070 - accuracy: 0.9694 - val_loss: 0.1003 - val_accuracy: 0.9706\n",
      "\n",
      "Reached 95% accuracy so cancelling training!\n"
     ]
    },
    {
     "data": {
      "text/plain": [
       "<keras.callbacks.History at 0x179fe5bf670>"
      ]
     },
     "execution_count": 25,
     "metadata": {},
     "output_type": "execute_result"
    }
   ],
   "source": [
    "cnn.fit(\n",
    "     x = X_train\n",
    "    ,y = y_train\n",
    "    ,epochs = 10\n",
    "    ,batch_size = 32\n",
    "    ,validation_split = 0.2\n",
    "    ,callbacks = [callbacks]\n",
    ")"
   ]
  },
  {
   "cell_type": "code",
   "execution_count": 26,
   "id": "11b1ecd5-7223-4a5a-85d7-9139374eca8e",
   "metadata": {},
   "outputs": [],
   "source": [
    "cnn.save('./models/MNIST_cnn.h5')"
   ]
  },
  {
   "cell_type": "markdown",
   "id": "6ec9a8ea-ecd0-42d4-97a0-24b2cbe6e0b4",
   "metadata": {},
   "source": [
    "### Predicciones"
   ]
  },
  {
   "cell_type": "code",
   "execution_count": 27,
   "id": "d537b2cf-4c86-4f71-8bba-feb5b25379f4",
   "metadata": {},
   "outputs": [],
   "source": [
    "def predictNumbers(model, X_test, y_test):\n",
    "    probs = model.predict(X_test)\n",
    "    class_prob = np.max(probs, axis = 1)\n",
    "    predictions = np.argmax(probs, axis = 1)\n",
    "    labels = np.argmax(y_test, axis = 1)\n",
    "    match = predictions == labels\n",
    "    \n",
    "    results = pd.DataFrame({'Class_prediction': predictions, 'Class_prob': class_prob, 'Label': labels, 'Matches': match})\n",
    "    return results, probs    "
   ]
  },
  {
   "cell_type": "code",
   "execution_count": 28,
   "id": "5f4f0887-f99d-4823-b132-9c4121fb337f",
   "metadata": {},
   "outputs": [],
   "source": [
    "def sampleImagePredictions(results, data, title = ''):\n",
    "    #indexes = np.random.choice(list(results.index), size = 9, replace = False)\n",
    "    indexes = np.random.randint(0, len(results), 9)\n",
    "    fig, axs = plt.subplots(nrows = 3, ncols = 3, figsize = (8, 8))\n",
    "    m = 0\n",
    "    \n",
    "    for i in range(0, 3):\n",
    "        for j in range(0, 3):\n",
    "            y_hat = results.loc[indexes[m], 'Class_prediction']\n",
    "            y = results.loc[indexes[m], 'Label']\n",
    "            axs[i, j].imshow(data[indexes[m]], cmap = \"gray\")\n",
    "            axs[i, j].set_title('Model Prediction = {}\\nReal Label = {}'.format(y_hat, y))\n",
    "            m += 1\n",
    "            \n",
    "            \n",
    "    fig.suptitle(title)\n",
    "    plt.subplots_adjust(left=0.1,\n",
    "                    bottom=0.1, \n",
    "                    right=0.9, \n",
    "                    top=0.9, \n",
    "                    wspace=0.4, \n",
    "                    hspace=0.4)\n",
    "    plt.show()\n",
    "    return indexes"
   ]
  },
  {
   "cell_type": "markdown",
   "id": "63c8a032-bc05-4d87-a694-12e0f508fe9d",
   "metadata": {},
   "source": [
    "##### ANN Predictions"
   ]
  },
  {
   "cell_type": "code",
   "execution_count": 29,
   "id": "1b1532a5-5033-4de3-9f2f-237e3f64ef80",
   "metadata": {},
   "outputs": [],
   "source": [
    "ann_results, ann_probs = predictNumbers(ann, X_test, y_test)"
   ]
  },
  {
   "cell_type": "code",
   "execution_count": 30,
   "id": "75d78851-c830-4395-b40e-25dfb4f9c783",
   "metadata": {},
   "outputs": [
    {
     "data": {
      "text/plain": [
       "array([[2.2169822e-07, 1.4759445e-03, 9.9283916e-01, ..., 5.4298539e-07,\n",
       "        2.2302415e-06, 1.4339264e-08],\n",
       "       [1.6771359e-05, 1.5921452e-06, 9.9575305e-01, ..., 2.8184589e-03,\n",
       "        1.5326208e-04, 3.3108947e-05],\n",
       "       [9.9997222e-01, 2.8997786e-09, 1.9084255e-05, ..., 4.0323322e-08,\n",
       "        1.7349462e-08, 6.6655680e-06],\n",
       "       ...,\n",
       "       [2.9305067e-05, 1.5465149e-08, 4.1879783e-04, ..., 3.9294843e-02,\n",
       "        3.3922141e-04, 9.3249339e-01],\n",
       "       [7.5383283e-02, 6.4547571e-08, 9.2203909e-04, ..., 9.0773283e-06,\n",
       "        5.9171892e-08, 7.7854536e-05],\n",
       "       [2.8573206e-05, 5.0348518e-03, 2.1403027e-03, ..., 1.9772518e-03,\n",
       "        7.1338322e-03, 1.2612875e-01]], dtype=float32)"
      ]
     },
     "execution_count": 30,
     "metadata": {},
     "output_type": "execute_result"
    }
   ],
   "source": [
    "ann_probs"
   ]
  },
  {
   "cell_type": "code",
   "execution_count": 31,
   "id": "49a4f6ef-b4d9-420e-aebc-af22d43e3fdd",
   "metadata": {},
   "outputs": [
    {
     "data": {
      "text/html": [
       "<div>\n",
       "<style scoped>\n",
       "    .dataframe tbody tr th:only-of-type {\n",
       "        vertical-align: middle;\n",
       "    }\n",
       "\n",
       "    .dataframe tbody tr th {\n",
       "        vertical-align: top;\n",
       "    }\n",
       "\n",
       "    .dataframe thead th {\n",
       "        text-align: right;\n",
       "    }\n",
       "</style>\n",
       "<table border=\"1\" class=\"dataframe\">\n",
       "  <thead>\n",
       "    <tr style=\"text-align: right;\">\n",
       "      <th></th>\n",
       "      <th>Class_prediction</th>\n",
       "      <th>Class_prob</th>\n",
       "      <th>Label</th>\n",
       "      <th>Matches</th>\n",
       "    </tr>\n",
       "  </thead>\n",
       "  <tbody>\n",
       "    <tr>\n",
       "      <th>0</th>\n",
       "      <td>2</td>\n",
       "      <td>0.992839</td>\n",
       "      <td>2</td>\n",
       "      <td>True</td>\n",
       "    </tr>\n",
       "    <tr>\n",
       "      <th>1</th>\n",
       "      <td>2</td>\n",
       "      <td>0.995753</td>\n",
       "      <td>2</td>\n",
       "      <td>True</td>\n",
       "    </tr>\n",
       "    <tr>\n",
       "      <th>2</th>\n",
       "      <td>0</td>\n",
       "      <td>0.999972</td>\n",
       "      <td>0</td>\n",
       "      <td>True</td>\n",
       "    </tr>\n",
       "    <tr>\n",
       "      <th>3</th>\n",
       "      <td>9</td>\n",
       "      <td>0.999236</td>\n",
       "      <td>9</td>\n",
       "      <td>True</td>\n",
       "    </tr>\n",
       "    <tr>\n",
       "      <th>4</th>\n",
       "      <td>4</td>\n",
       "      <td>0.452085</td>\n",
       "      <td>4</td>\n",
       "      <td>True</td>\n",
       "    </tr>\n",
       "    <tr>\n",
       "      <th>...</th>\n",
       "      <td>...</td>\n",
       "      <td>...</td>\n",
       "      <td>...</td>\n",
       "      <td>...</td>\n",
       "    </tr>\n",
       "    <tr>\n",
       "      <th>12595</th>\n",
       "      <td>9</td>\n",
       "      <td>0.605239</td>\n",
       "      <td>7</td>\n",
       "      <td>False</td>\n",
       "    </tr>\n",
       "    <tr>\n",
       "      <th>12596</th>\n",
       "      <td>8</td>\n",
       "      <td>0.942918</td>\n",
       "      <td>8</td>\n",
       "      <td>True</td>\n",
       "    </tr>\n",
       "    <tr>\n",
       "      <th>12597</th>\n",
       "      <td>9</td>\n",
       "      <td>0.932493</td>\n",
       "      <td>9</td>\n",
       "      <td>True</td>\n",
       "    </tr>\n",
       "    <tr>\n",
       "      <th>12598</th>\n",
       "      <td>6</td>\n",
       "      <td>0.914197</td>\n",
       "      <td>6</td>\n",
       "      <td>True</td>\n",
       "    </tr>\n",
       "    <tr>\n",
       "      <th>12599</th>\n",
       "      <td>3</td>\n",
       "      <td>0.855115</td>\n",
       "      <td>3</td>\n",
       "      <td>True</td>\n",
       "    </tr>\n",
       "  </tbody>\n",
       "</table>\n",
       "<p>12600 rows × 4 columns</p>\n",
       "</div>"
      ],
      "text/plain": [
       "       Class_prediction  Class_prob  Label  Matches\n",
       "0                     2    0.992839      2     True\n",
       "1                     2    0.995753      2     True\n",
       "2                     0    0.999972      0     True\n",
       "3                     9    0.999236      9     True\n",
       "4                     4    0.452085      4     True\n",
       "...                 ...         ...    ...      ...\n",
       "12595                 9    0.605239      7    False\n",
       "12596                 8    0.942918      8     True\n",
       "12597                 9    0.932493      9     True\n",
       "12598                 6    0.914197      6     True\n",
       "12599                 3    0.855115      3     True\n",
       "\n",
       "[12600 rows x 4 columns]"
      ]
     },
     "execution_count": 31,
     "metadata": {},
     "output_type": "execute_result"
    }
   ],
   "source": [
    "ann_results"
   ]
  },
  {
   "cell_type": "code",
   "execution_count": 32,
   "id": "e9e97760-f99e-4bae-a58f-875dacad337d",
   "metadata": {},
   "outputs": [
    {
     "data": {
      "image/png": "[encoded data removed]",
      "text/plain": [
       "<Figure size 576x576 with 9 Axes>"
      ]
     },
     "metadata": {
      "needs_background": "light"
     },
     "output_type": "display_data"
    },
    {
     "data": {
      "text/plain": [
       "array([10102,  1615,  6121,  4298,  9776,  9455,  2414, 11885, 11210])"
      ]
     },
     "execution_count": 32,
     "metadata": {},
     "output_type": "execute_result"
    }
   ],
   "source": [
    "sampleImagePredictions(ann_results, X_test, 'ANN Predictions')"
   ]
  },
  {
   "cell_type": "code",
   "execution_count": 33,
   "id": "60629ba6-587d-4796-99e6-5e6efd7aec75",
   "metadata": {},
   "outputs": [
    {
     "name": "stdout",
     "output_type": "stream",
     "text": [
      "Model ANN Accuracy = 0.9508730158730159\n"
     ]
    }
   ],
   "source": [
    "accuracy_ann = ann_results['Matches'].sum() / ann_results['Matches'].count()\n",
    "print(\"Model ANN Accuracy = {}\".format(accuracy_ann))"
   ]
  },
  {
   "cell_type": "markdown",
   "id": "06091857-aa59-4932-a8f6-ba4dac3c26e7",
   "metadata": {},
   "source": [
    "##### CNN Predictions"
   ]
  },
  {
   "cell_type": "code",
   "execution_count": 34,
   "id": "f7023ca6-c108-433d-80ff-849cd207a49e",
   "metadata": {},
   "outputs": [],
   "source": [
    "cnn_results, cnn_probs = predictNumbers(cnn, X_test, y_test)"
   ]
  },
  {
   "cell_type": "code",
   "execution_count": 35,
   "id": "4aa04d99-3f65-4f92-8d95-4fc1dba13e9d",
   "metadata": {},
   "outputs": [
    {
     "data": {
      "text/plain": [
       "array([[1.0981620e-07, 2.2150876e-03, 9.9603695e-01, ..., 2.5795073e-06,\n",
       "        5.6604440e-06, 1.0174422e-08],\n",
       "       [1.6153317e-07, 5.8733811e-08, 9.9991524e-01, ..., 2.2613982e-05,\n",
       "        3.8695816e-06, 7.8372180e-09],\n",
       "       [9.9990499e-01, 6.2675370e-10, 1.6937199e-06, ..., 7.8476165e-07,\n",
       "        1.0613790e-05, 1.1036786e-05],\n",
       "       ...,\n",
       "       [1.1078123e-03, 1.5873836e-07, 1.9535017e-03, ..., 1.3419560e-01,\n",
       "        1.7919110e-03, 8.5250098e-01],\n",
       "       [9.1311060e-02, 8.4077772e-07, 3.8758983e-05, ..., 1.3056211e-05,\n",
       "        6.6110661e-06, 4.1794519e-06],\n",
       "       [3.3897652e-06, 3.3209235e-05, 1.3042415e-04, ..., 4.2784890e-05,\n",
       "        2.9707293e-04, 1.0329592e-03]], dtype=float32)"
      ]
     },
     "execution_count": 35,
     "metadata": {},
     "output_type": "execute_result"
    }
   ],
   "source": [
    "cnn_probs"
   ]
  },
  {
   "cell_type": "code",
   "execution_count": 36,
   "id": "0a956d60-a380-4a40-af73-8e9bffdf8fd4",
   "metadata": {},
   "outputs": [
    {
     "data": {
      "text/html": [
       "<div>\n",
       "<style scoped>\n",
       "    .dataframe tbody tr th:only-of-type {\n",
       "        vertical-align: middle;\n",
       "    }\n",
       "\n",
       "    .dataframe tbody tr th {\n",
       "        vertical-align: top;\n",
       "    }\n",
       "\n",
       "    .dataframe thead th {\n",
       "        text-align: right;\n",
       "    }\n",
       "</style>\n",
       "<table border=\"1\" class=\"dataframe\">\n",
       "  <thead>\n",
       "    <tr style=\"text-align: right;\">\n",
       "      <th></th>\n",
       "      <th>Class_prediction</th>\n",
       "      <th>Class_prob</th>\n",
       "      <th>Label</th>\n",
       "      <th>Matches</th>\n",
       "    </tr>\n",
       "  </thead>\n",
       "  <tbody>\n",
       "    <tr>\n",
       "      <th>0</th>\n",
       "      <td>2</td>\n",
       "      <td>0.996037</td>\n",
       "      <td>2</td>\n",
       "      <td>True</td>\n",
       "    </tr>\n",
       "    <tr>\n",
       "      <th>1</th>\n",
       "      <td>2</td>\n",
       "      <td>0.999915</td>\n",
       "      <td>2</td>\n",
       "      <td>True</td>\n",
       "    </tr>\n",
       "    <tr>\n",
       "      <th>2</th>\n",
       "      <td>0</td>\n",
       "      <td>0.999905</td>\n",
       "      <td>0</td>\n",
       "      <td>True</td>\n",
       "    </tr>\n",
       "    <tr>\n",
       "      <th>3</th>\n",
       "      <td>9</td>\n",
       "      <td>0.999799</td>\n",
       "      <td>9</td>\n",
       "      <td>True</td>\n",
       "    </tr>\n",
       "    <tr>\n",
       "      <th>4</th>\n",
       "      <td>4</td>\n",
       "      <td>0.722457</td>\n",
       "      <td>4</td>\n",
       "      <td>True</td>\n",
       "    </tr>\n",
       "    <tr>\n",
       "      <th>...</th>\n",
       "      <td>...</td>\n",
       "      <td>...</td>\n",
       "      <td>...</td>\n",
       "      <td>...</td>\n",
       "    </tr>\n",
       "    <tr>\n",
       "      <th>12595</th>\n",
       "      <td>7</td>\n",
       "      <td>0.736935</td>\n",
       "      <td>7</td>\n",
       "      <td>True</td>\n",
       "    </tr>\n",
       "    <tr>\n",
       "      <th>12596</th>\n",
       "      <td>8</td>\n",
       "      <td>0.971703</td>\n",
       "      <td>8</td>\n",
       "      <td>True</td>\n",
       "    </tr>\n",
       "    <tr>\n",
       "      <th>12597</th>\n",
       "      <td>9</td>\n",
       "      <td>0.852501</td>\n",
       "      <td>9</td>\n",
       "      <td>True</td>\n",
       "    </tr>\n",
       "    <tr>\n",
       "      <th>12598</th>\n",
       "      <td>6</td>\n",
       "      <td>0.904721</td>\n",
       "      <td>6</td>\n",
       "      <td>True</td>\n",
       "    </tr>\n",
       "    <tr>\n",
       "      <th>12599</th>\n",
       "      <td>3</td>\n",
       "      <td>0.997849</td>\n",
       "      <td>3</td>\n",
       "      <td>True</td>\n",
       "    </tr>\n",
       "  </tbody>\n",
       "</table>\n",
       "<p>12600 rows × 4 columns</p>\n",
       "</div>"
      ],
      "text/plain": [
       "       Class_prediction  Class_prob  Label  Matches\n",
       "0                     2    0.996037      2     True\n",
       "1                     2    0.999915      2     True\n",
       "2                     0    0.999905      0     True\n",
       "3                     9    0.999799      9     True\n",
       "4                     4    0.722457      4     True\n",
       "...                 ...         ...    ...      ...\n",
       "12595                 7    0.736935      7     True\n",
       "12596                 8    0.971703      8     True\n",
       "12597                 9    0.852501      9     True\n",
       "12598                 6    0.904721      6     True\n",
       "12599                 3    0.997849      3     True\n",
       "\n",
       "[12600 rows x 4 columns]"
      ]
     },
     "execution_count": 36,
     "metadata": {},
     "output_type": "execute_result"
    }
   ],
   "source": [
    "cnn_results"
   ]
  },
  {
   "cell_type": "code",
   "execution_count": 37,
   "id": "a5784359-5d61-4860-8016-5a89d35151eb",
   "metadata": {},
   "outputs": [
    {
     "data": {
      "image/png": "[encoded data removed]",
      "text/plain": [
       "<Figure size 576x576 with 9 Axes>"
      ]
     },
     "metadata": {
      "needs_background": "light"
     },
     "output_type": "display_data"
    },
    {
     "data": {
      "text/plain": [
       "array([10786,  6041, 10222, 10779,  9978,   133,  2363,  2226, 12208])"
      ]
     },
     "execution_count": 37,
     "metadata": {},
     "output_type": "execute_result"
    }
   ],
   "source": [
    "sampleImagePredictions(cnn_results, X_test, 'CNN Predictions')"
   ]
  },
  {
   "cell_type": "code",
   "execution_count": 38,
   "id": "ba7dbb97-1950-4e52-a584-73feb1738da7",
   "metadata": {},
   "outputs": [
    {
     "name": "stdout",
     "output_type": "stream",
     "text": [
      "Model CNN Accuracy = 0.9681746031746031\n"
     ]
    }
   ],
   "source": [
    "accuracy_cnn = cnn_results['Matches'].sum() / cnn_results['Matches'].count()\n",
    "print(\"Model CNN Accuracy = {}\".format(accuracy_cnn))"
   ]
  },
  {
   "cell_type": "markdown",
   "id": "02a63804-8a93-4389-9cf1-e00daac85903",
   "metadata": {},
   "source": [
    "### Comparacion modelos"
   ]
  },
  {
   "cell_type": "code",
   "execution_count": 39,
   "id": "919fe779-baff-4b30-8344-cd60c1be3289",
   "metadata": {},
   "outputs": [
    {
     "data": {
      "text/html": [
       "<div>\n",
       "<style scoped>\n",
       "    .dataframe tbody tr th:only-of-type {\n",
       "        vertical-align: middle;\n",
       "    }\n",
       "\n",
       "    .dataframe tbody tr th {\n",
       "        vertical-align: top;\n",
       "    }\n",
       "\n",
       "    .dataframe thead th {\n",
       "        text-align: right;\n",
       "    }\n",
       "</style>\n",
       "<table border=\"1\" class=\"dataframe\">\n",
       "  <thead>\n",
       "    <tr style=\"text-align: right;\">\n",
       "      <th></th>\n",
       "      <th>Modelo</th>\n",
       "      <th>Accuracy</th>\n",
       "    </tr>\n",
       "  </thead>\n",
       "  <tbody>\n",
       "    <tr>\n",
       "      <th>0</th>\n",
       "      <td>ANN</td>\n",
       "      <td>0.950873</td>\n",
       "    </tr>\n",
       "    <tr>\n",
       "      <th>1</th>\n",
       "      <td>CNN</td>\n",
       "      <td>0.968175</td>\n",
       "    </tr>\n",
       "  </tbody>\n",
       "</table>\n",
       "</div>"
      ],
      "text/plain": [
       "  Modelo  Accuracy\n",
       "0    ANN  0.950873\n",
       "1    CNN  0.968175"
      ]
     },
     "execution_count": 39,
     "metadata": {},
     "output_type": "execute_result"
    }
   ],
   "source": [
    "comparing_data = pd.DataFrame({'Modelo': ['ANN', 'CNN'], 'Accuracy': [accuracy_ann, accuracy_cnn]})\n",
    "comparing_data"
   ]
  },
  {
   "cell_type": "markdown",
   "id": "12839eb1-f49f-4778-abf9-ac851e47a116",
   "metadata": {},
   "source": [
    "### Conclusiones\n",
    "- El modelo entrenado por medio de CNN presenta una acierto mayor que el modelo de ANN con valores de 96.82% y 95.09% respectivamente"
   ]
  }
 ],
 "metadata": {
  "kernelspec": {
   "display_name": "Python 3",
   "language": "python",
   "name": "python3"
  },
  "language_info": {
   "codemirror_mode": {
    "name": "ipython",
    "version": 3
   },
   "file_extension": ".py",
   "mimetype": "text/x-python",
   "name": "python",
   "nbconvert_exporter": "python",
   "pygments_lexer": "ipython3",
   "version": "3.9.4"
  }
 },
 "nbformat": 4,
 "nbformat_minor": 5
}
