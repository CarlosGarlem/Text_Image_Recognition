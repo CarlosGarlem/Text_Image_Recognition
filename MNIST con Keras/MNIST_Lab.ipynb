{
 "cells": [
  {
   "cell_type": "markdown",
   "id": "6cee22c2-3b46-4ef8-a02d-e5b76f7b0e3d",
   "metadata": {},
   "source": [
    "Carlos Garcia - 21000475"
   ]
  },
  {
   "cell_type": "markdown",
   "id": "902076f6-8e01-467b-a84d-9fbc6921657a",
   "metadata": {},
   "source": [
    "### Liberias"
   ]
  },
  {
   "cell_type": "code",
   "execution_count": 5,
   "id": "7e5e5455-ac18-41cb-a0a5-a67d16dd89d7",
   "metadata": {},
   "outputs": [],
   "source": [
    "from keras.models import Sequential\n",
    "from keras.layers import Dense, Conv2D, MaxPool2D, Flatten\n",
    "from keras.initializers import GlorotUniform, GlorotNormal"
   ]
  },
  {
   "cell_type": "code",
   "execution_count": 107,
   "id": "d248e531-f46f-4e67-a216-de312c3f4412",
   "metadata": {},
   "outputs": [],
   "source": [
    "import tensorflow as tf\n",
    "import numpy as np\n",
    "import pandas as pd\n",
    "import matplotlib.pyplot as plt\n",
    "from sklearn.model_selection import train_test_split\n",
    "from sklearn.preprocessing import OneHotEncoder"
   ]
  },
  {
   "cell_type": "code",
   "execution_count": 7,
   "id": "7a10a804-0711-4a94-ae79-06edf41472a6",
   "metadata": {},
   "outputs": [
    {
     "name": "stdout",
     "output_type": "stream",
     "text": [
      "Num GPUs Available:  1\n"
     ]
    }
   ],
   "source": [
    "print(\"Num GPUs Available: \", len(tf.config.list_physical_devices('GPU')))"
   ]
  },
  {
   "cell_type": "markdown",
   "id": "1f87c734-aae4-4bc7-aa35-d614cb352c3c",
   "metadata": {},
   "source": [
    "### Datos"
   ]
  },
  {
   "cell_type": "markdown",
   "id": "274da9de-4ee1-463b-ae7e-99a8d5ae7708",
   "metadata": {},
   "source": [
    "##### Obteniendo datos"
   ]
  },
  {
   "cell_type": "code",
   "execution_count": 13,
   "id": "d72badad-4eb8-4769-8da6-582cfec176e0",
   "metadata": {},
   "outputs": [
    {
     "data": {
      "text/html": [
       "<div>\n",
       "<style scoped>\n",
       "    .dataframe tbody tr th:only-of-type {\n",
       "        vertical-align: middle;\n",
       "    }\n",
       "\n",
       "    .dataframe tbody tr th {\n",
       "        vertical-align: top;\n",
       "    }\n",
       "\n",
       "    .dataframe thead th {\n",
       "        text-align: right;\n",
       "    }\n",
       "</style>\n",
       "<table border=\"1\" class=\"dataframe\">\n",
       "  <thead>\n",
       "    <tr style=\"text-align: right;\">\n",
       "      <th></th>\n",
       "      <th>label</th>\n",
       "      <th>pixel0</th>\n",
       "      <th>pixel1</th>\n",
       "      <th>pixel2</th>\n",
       "      <th>pixel3</th>\n",
       "      <th>pixel4</th>\n",
       "      <th>pixel5</th>\n",
       "      <th>pixel6</th>\n",
       "      <th>pixel7</th>\n",
       "      <th>pixel8</th>\n",
       "      <th>...</th>\n",
       "      <th>pixel774</th>\n",
       "      <th>pixel775</th>\n",
       "      <th>pixel776</th>\n",
       "      <th>pixel777</th>\n",
       "      <th>pixel778</th>\n",
       "      <th>pixel779</th>\n",
       "      <th>pixel780</th>\n",
       "      <th>pixel781</th>\n",
       "      <th>pixel782</th>\n",
       "      <th>pixel783</th>\n",
       "    </tr>\n",
       "  </thead>\n",
       "  <tbody>\n",
       "    <tr>\n",
       "      <th>0</th>\n",
       "      <td>1</td>\n",
       "      <td>0</td>\n",
       "      <td>0</td>\n",
       "      <td>0</td>\n",
       "      <td>0</td>\n",
       "      <td>0</td>\n",
       "      <td>0</td>\n",
       "      <td>0</td>\n",
       "      <td>0</td>\n",
       "      <td>0</td>\n",
       "      <td>...</td>\n",
       "      <td>0</td>\n",
       "      <td>0</td>\n",
       "      <td>0</td>\n",
       "      <td>0</td>\n",
       "      <td>0</td>\n",
       "      <td>0</td>\n",
       "      <td>0</td>\n",
       "      <td>0</td>\n",
       "      <td>0</td>\n",
       "      <td>0</td>\n",
       "    </tr>\n",
       "    <tr>\n",
       "      <th>1</th>\n",
       "      <td>0</td>\n",
       "      <td>0</td>\n",
       "      <td>0</td>\n",
       "      <td>0</td>\n",
       "      <td>0</td>\n",
       "      <td>0</td>\n",
       "      <td>0</td>\n",
       "      <td>0</td>\n",
       "      <td>0</td>\n",
       "      <td>0</td>\n",
       "      <td>...</td>\n",
       "      <td>0</td>\n",
       "      <td>0</td>\n",
       "      <td>0</td>\n",
       "      <td>0</td>\n",
       "      <td>0</td>\n",
       "      <td>0</td>\n",
       "      <td>0</td>\n",
       "      <td>0</td>\n",
       "      <td>0</td>\n",
       "      <td>0</td>\n",
       "    </tr>\n",
       "    <tr>\n",
       "      <th>2</th>\n",
       "      <td>1</td>\n",
       "      <td>0</td>\n",
       "      <td>0</td>\n",
       "      <td>0</td>\n",
       "      <td>0</td>\n",
       "      <td>0</td>\n",
       "      <td>0</td>\n",
       "      <td>0</td>\n",
       "      <td>0</td>\n",
       "      <td>0</td>\n",
       "      <td>...</td>\n",
       "      <td>0</td>\n",
       "      <td>0</td>\n",
       "      <td>0</td>\n",
       "      <td>0</td>\n",
       "      <td>0</td>\n",
       "      <td>0</td>\n",
       "      <td>0</td>\n",
       "      <td>0</td>\n",
       "      <td>0</td>\n",
       "      <td>0</td>\n",
       "    </tr>\n",
       "    <tr>\n",
       "      <th>3</th>\n",
       "      <td>4</td>\n",
       "      <td>0</td>\n",
       "      <td>0</td>\n",
       "      <td>0</td>\n",
       "      <td>0</td>\n",
       "      <td>0</td>\n",
       "      <td>0</td>\n",
       "      <td>0</td>\n",
       "      <td>0</td>\n",
       "      <td>0</td>\n",
       "      <td>...</td>\n",
       "      <td>0</td>\n",
       "      <td>0</td>\n",
       "      <td>0</td>\n",
       "      <td>0</td>\n",
       "      <td>0</td>\n",
       "      <td>0</td>\n",
       "      <td>0</td>\n",
       "      <td>0</td>\n",
       "      <td>0</td>\n",
       "      <td>0</td>\n",
       "    </tr>\n",
       "    <tr>\n",
       "      <th>4</th>\n",
       "      <td>0</td>\n",
       "      <td>0</td>\n",
       "      <td>0</td>\n",
       "      <td>0</td>\n",
       "      <td>0</td>\n",
       "      <td>0</td>\n",
       "      <td>0</td>\n",
       "      <td>0</td>\n",
       "      <td>0</td>\n",
       "      <td>0</td>\n",
       "      <td>...</td>\n",
       "      <td>0</td>\n",
       "      <td>0</td>\n",
       "      <td>0</td>\n",
       "      <td>0</td>\n",
       "      <td>0</td>\n",
       "      <td>0</td>\n",
       "      <td>0</td>\n",
       "      <td>0</td>\n",
       "      <td>0</td>\n",
       "      <td>0</td>\n",
       "    </tr>\n",
       "  </tbody>\n",
       "</table>\n",
       "<p>5 rows × 785 columns</p>\n",
       "</div>"
      ],
      "text/plain": [
       "   label  pixel0  pixel1  pixel2  pixel3  pixel4  pixel5  pixel6  pixel7  \\\n",
       "0      1       0       0       0       0       0       0       0       0   \n",
       "1      0       0       0       0       0       0       0       0       0   \n",
       "2      1       0       0       0       0       0       0       0       0   \n",
       "3      4       0       0       0       0       0       0       0       0   \n",
       "4      0       0       0       0       0       0       0       0       0   \n",
       "\n",
       "   pixel8  ...  pixel774  pixel775  pixel776  pixel777  pixel778  pixel779  \\\n",
       "0       0  ...         0         0         0         0         0         0   \n",
       "1       0  ...         0         0         0         0         0         0   \n",
       "2       0  ...         0         0         0         0         0         0   \n",
       "3       0  ...         0         0         0         0         0         0   \n",
       "4       0  ...         0         0         0         0         0         0   \n",
       "\n",
       "   pixel780  pixel781  pixel782  pixel783  \n",
       "0         0         0         0         0  \n",
       "1         0         0         0         0  \n",
       "2         0         0         0         0  \n",
       "3         0         0         0         0  \n",
       "4         0         0         0         0  \n",
       "\n",
       "[5 rows x 785 columns]"
      ]
     },
     "execution_count": 13,
     "metadata": {},
     "output_type": "execute_result"
    }
   ],
   "source": [
    "data = pd.read_csv('./input/train.csv')\n",
    "data.head()"
   ]
  },
  {
   "cell_type": "code",
   "execution_count": 37,
   "id": "7cc17291-36bf-41db-b8fd-d0a0ddbdbf87",
   "metadata": {},
   "outputs": [
    {
     "data": {
      "text/plain": [
       "array([[  1,   0,   0,   0,   0,   0,   0,   0,   0,   0,   0,   0,   0,\n",
       "          0,   0,   0,   0,   0,   0,   0,   0,   0,   0,   0,   0,   0,\n",
       "          0,   0],\n",
       "       [  0,   0,   0,   0,   0,   0,   0,   0,   0,   0,   0,   0,   0,\n",
       "          0,   0,   0,   0,   0,   0,   0,   0,   0,   0,   0,   0,   0,\n",
       "          0,   0],\n",
       "       [  0,   0,   0,   0,   0,   0,   0,   0,   0,   0,   0,   0,   0,\n",
       "          0,   0,   0,   0,   0,   0,   0,   0,   0,   0,   0,   0,   0,\n",
       "          0,   0],\n",
       "       [  0,   0,   0,   0,   0,   0,   0,   0,   0,   0,   0,   0,   0,\n",
       "          0,   0,   0,   0,   0,   0,   0,   0,   0,   0,   0,   0,   0,\n",
       "          0,   0],\n",
       "       [  0,   0,   0,   0,   0,   0,   0,   0,   0,   0,   0,   0,   0,\n",
       "          0,   0,   0,   0,   0,   0,   0,   0,   0,   0,   0,   0,   0,\n",
       "          0,   0],\n",
       "       [  0,   0,   0,   0,   0,   0,   0,   0,   0,   0,   0,   0,   0,\n",
       "          0,   0,   0,   0,   0,   0,   0,   0,   0,   0,   0,   0,   0,\n",
       "          0,   0],\n",
       "       [  0,   0,   0,   0,   0,   0,   0,   0,   0,   0,   0,   0,   0,\n",
       "          0,   0,   0,   0,   0,   0,   0,   0,   0,   0,   0,   0,   0,\n",
       "          0,   0],\n",
       "       [  0,   0,   0,   0,   0,   0,   0,   0,   0,   0,   0,   0,   0,\n",
       "          0,   0,   0,   0,   0,   0,   0,   0,   0,   0,   0,   0,   0,\n",
       "          0,   0],\n",
       "       [  0,   0,   0,   0,   0,   0,   0,   0,   0,   0,   0,   0,   0,\n",
       "          0,   0,   0,   0,   0,   0,   0,  15,  94,  89,   0,   0,   0,\n",
       "          0,   0],\n",
       "       [  0,   0,   0,   0,   0,   0,   0,   0,   0,   0,   0,   0,   0,\n",
       "          0,   0,   0,   0,   0,   0,  89, 220, 253, 251, 214,   0,   0,\n",
       "          0,   0],\n",
       "       [  0,   0,   0,   0,   0,   0,   0,   0,   0,   0,   0,   0,   0,\n",
       "          0,   0,   0,   0,  22, 103, 240, 253, 253, 253, 218,   0,   0,\n",
       "          0,   0],\n",
       "       [  0,   0,   0,   0,   0,   0,   0,   0,   0,   0,   0,   0,   0,\n",
       "          0,   0,   0,  20, 188, 253, 253, 253, 253, 250,  95,   0,   0,\n",
       "          0,   0],\n",
       "       [  0,   0,   0,   0,   0,   0,   0,   0,   0,   0,   0,   0,   0,\n",
       "          0,  20, 168, 203, 253, 253, 195,  80,  94, 131,   0,   0,   0,\n",
       "          0,   0],\n",
       "       [  0,   0,   0,   0,   0,   0,   0,   0,   0,   0,   0,   0,  16,\n",
       "         27, 206, 253, 253, 245, 191,  25,   0,   0,   0,   0,   0,   0,\n",
       "          0,   0],\n",
       "       [  0,   0,   0,   0,   0,   0,   0,   0,   0,   0,   0,  23, 209,\n",
       "        253, 254, 253, 248,  93,   0,   0,   0,   0,   0,   0,   0,   0,\n",
       "          0,   0],\n",
       "       [  0,   0,   0,   0,   0,   0,   0,   0,   0,   0,  93, 210, 253,\n",
       "        253, 254, 196,  76,   0,   0,   0,   0,   0,   0,   0,   0,   0,\n",
       "          0,   0],\n",
       "       [  0,   0,   0,   0,   0,   0,   0,   0,   0,  54, 254, 254, 254,\n",
       "        254, 198,   7,   0,   0,   0,   0,   0,   0,   0,   0,   0,   0,\n",
       "          0,   0],\n",
       "       [  0,   0,   0,   0,   0,   0,   0,   0,  29, 209, 253, 253, 240,\n",
       "         13,   7,   0,   0,   0,   0,   0,   0,   0,   0,   0,   0,   0,\n",
       "          0,   0],\n",
       "       [  0,   0,   0,   0,   0,   0,   0,  80, 207, 253, 238, 159,  81,\n",
       "          0,   0,   0,   0,   0,   0,   0,   0,   0,   0,   0,   0,   0,\n",
       "          0,   0],\n",
       "       [  0,   0,   0,   0,   0,   0, 123, 247, 253, 253, 170,   0,   0,\n",
       "          0,   0,   0,   0,   0,   0,   0,   0,   0,   0,   0,   0,   0,\n",
       "          0,   0],\n",
       "       [  0,   0,   0,   0,   0, 191, 248, 253, 235,  88,  17,   0,   0,\n",
       "          0,   0,   0,   0,   0,   0,   0,   0,   0,   0,   0,   0,   0,\n",
       "          0,   0],\n",
       "       [  0,   0,   0,   0, 188, 250, 253, 208,  77,   0,   0,   0,   0,\n",
       "          0,   0,   0,   0,   0,   0,   0,   0,   0,   0,   0,   0,   0,\n",
       "          0,   0],\n",
       "       [  0,   0,   0,   0, 255, 253, 167,  13,   0,   0,   0,   0,   0,\n",
       "          0,   0,   0,   0,   0,   0,   0,   0,   0,   0,   0,   0,   0,\n",
       "          0,   0],\n",
       "       [  0,   0,   0,   0,  94,  93,  10,   0,   0,   0,   0,   0,   0,\n",
       "          0,   0,   0,   0,   0,   0,   0,   0,   0,   0,   0,   0,   0,\n",
       "          0,   0],\n",
       "       [  0,   0,   0,   0,   0,   0,   0,   0,   0,   0,   0,   0,   0,\n",
       "          0,   0,   0,   0,   0,   0,   0,   0,   0,   0,   0,   0,   0,\n",
       "          0,   0],\n",
       "       [  0,   0,   0,   0,   0,   0,   0,   0,   0,   0,   0,   0,   0,\n",
       "          0,   0,   0,   0,   0,   0,   0,   0,   0,   0,   0,   0,   0,\n",
       "          0,   0],\n",
       "       [  0,   0,   0,   0,   0,   0,   0,   0,   0,   0,   0,   0,   0,\n",
       "          0,   0,   0,   0,   0,   0,   0,   0,   0,   0,   0,   0,   0,\n",
       "          0,   0],\n",
       "       [  0,   0,   0,   0,   0,   0,   0,   0,   0,   0,   0,   0,   0,\n",
       "          0,   0,   0,   0,   0,   0,   0,   0,   0,   0,   0,   0,   0,\n",
       "          0,   0]], dtype=int64)"
      ]
     },
     "execution_count": 37,
     "metadata": {},
     "output_type": "execute_result"
    }
   ],
   "source": [
    "row = data.iloc[0, :].values\n",
    "img = []\n",
    "for i in range(0, 28):\n",
    "    array = []\n",
    "    for j in range(0, 28):\n",
    "        array.append(row[i + (j*28)])\n",
    "    img.append(array)\n",
    "    \n",
    "np.array(img)"
   ]
  },
  {
   "cell_type": "markdown",
   "id": "7c3ec1c4-734c-4eda-9f21-297206202042",
   "metadata": {},
   "source": [
    "##### Train-Test split"
   ]
  },
  {
   "cell_type": "code",
   "execution_count": 205,
   "id": "aace8d06-7573-4903-8fef-6affdfa4a127",
   "metadata": {},
   "outputs": [],
   "source": [
    "X_train, X_test, y_train, y_test = train_test_split(data.iloc[:,1:].values, data['label'].values, test_size = 0.3, random_state = 123)"
   ]
  },
  {
   "cell_type": "code",
   "execution_count": 206,
   "id": "a85778f8-0587-48ae-bb9c-f9cd7a48b8ea",
   "metadata": {},
   "outputs": [
    {
     "name": "stdout",
     "output_type": "stream",
     "text": [
      "(29400, 784)\n",
      "(29400,)\n",
      "(12600, 784)\n",
      "(12600,)\n"
     ]
    }
   ],
   "source": [
    "print(X_train.shape)\n",
    "print(y_train.shape)\n",
    "print(X_test.shape)\n",
    "print(y_test.shape)"
   ]
  },
  {
   "cell_type": "markdown",
   "id": "e9308d09-2e73-4f58-9f10-d9caa2fe6f2f",
   "metadata": {},
   "source": [
    "##### Normalizacion, encoding y reshape"
   ]
  },
  {
   "cell_type": "code",
   "execution_count": 207,
   "id": "cb40d7c8-56ed-4f37-b240-69926cdc3657",
   "metadata": {},
   "outputs": [],
   "source": [
    "X_train = X_train / 255.\n",
    "X_test = X_test / 255."
   ]
  },
  {
   "cell_type": "code",
   "execution_count": 208,
   "id": "89d2dbf4-3b1c-4656-a8ef-d013ed5356b7",
   "metadata": {},
   "outputs": [],
   "source": [
    "train_rows = X_train.shape[0]\n",
    "X_train = np.expand_dims(X_train, axis = 0)\n",
    "X_train = np.reshape(X_train, (train_rows, 28, 28, 1)) #Conv2D however expects four dimensions and this throws the error – simply because it also expects the channels dimension\n",
    "\n",
    "test_rows = X_test.shape[0]\n",
    "X_test = np.expand_dims(X_test, axis = 0)\n",
    "X_test = np.reshape(X_test, (test_rows, 28, 28, 1))\n",
    "\n",
    "y_train = np.expand_dims(y_train, axis = 1)\n",
    "y_test = np.expand_dims(y_test, axis = 1)"
   ]
  },
  {
   "cell_type": "code",
   "execution_count": 209,
   "id": "535dce68-df92-41c5-88cb-b08d4c4d8de4",
   "metadata": {},
   "outputs": [],
   "source": [
    "ohe = OneHotEncoder()\n",
    "y_train = ohe.fit_transform(y_train).toarray()\n",
    "y_test = ohe.fit_transform(y_test).toarray()"
   ]
  },
  {
   "cell_type": "code",
   "execution_count": 210,
   "id": "8ab7dd73-1a97-40b8-b9ce-5a49f536c08b",
   "metadata": {},
   "outputs": [
    {
     "name": "stdout",
     "output_type": "stream",
     "text": [
      "(29400, 28, 28, 1)\n",
      "(29400, 10)\n",
      "(12600, 28, 28, 1)\n",
      "(12600, 10)\n"
     ]
    }
   ],
   "source": [
    "print(X_train.shape)\n",
    "print(y_train.shape)\n",
    "print(X_test.shape)\n",
    "print(y_test.shape)"
   ]
  },
  {
   "cell_type": "markdown",
   "id": "953927e4-f853-430d-bc9f-bf28a973e333",
   "metadata": {},
   "source": [
    "##### Visualizacion"
   ]
  },
  {
   "cell_type": "code",
   "execution_count": 212,
   "id": "edd46175-24cf-4ff7-9d1a-b3b00dd8a3e6",
   "metadata": {},
   "outputs": [
    {
     "name": "stdout",
     "output_type": "stream",
     "text": [
      "[0. 0. 0. 0. 0. 0. 0. 0. 1. 0.]\n"
     ]
    },
    {
     "data": {
      "text/plain": [
       "<matplotlib.image.AxesImage at 0x17a91c580a0>"
      ]
     },
     "execution_count": 212,
     "metadata": {},
     "output_type": "execute_result"
    },
    {
     "data": {
      "image/png": "[encoded data removed]",
      "text/plain": [
       "<Figure size 432x288 with 1 Axes>"
      ]
     },
     "metadata": {
      "needs_background": "light"
     },
     "output_type": "display_data"
    }
   ],
   "source": [
    "print(y_train[2])\n",
    "plt.imshow(X_train[2], cmap = \"gray\")"
   ]
  },
  {
   "cell_type": "code",
   "execution_count": 213,
   "id": "455abe6b-9b81-4e62-ba19-8c729511d221",
   "metadata": {},
   "outputs": [
    {
     "name": "stdout",
     "output_type": "stream",
     "text": [
      "[0. 0. 1. 0. 0. 0. 0. 0. 0. 0.]\n"
     ]
    },
    {
     "data": {
      "text/plain": [
       "<matplotlib.image.AxesImage at 0x17a8245a760>"
      ]
     },
     "execution_count": 213,
     "metadata": {},
     "output_type": "execute_result"
    },
    {
     "data": {
      "image/png": "[encoded data removed]",
      "text/plain": [
       "<Figure size 432x288 with 1 Axes>"
      ]
     },
     "metadata": {
      "needs_background": "light"
     },
     "output_type": "display_data"
    }
   ],
   "source": [
    "print(y_test[1])\n",
    "plt.imshow(X_test[1], cmap = \"gray\")"
   ]
  },
  {
   "cell_type": "markdown",
   "id": "a56c3359-57dd-4f48-8fd4-60c5db6e28b6",
   "metadata": {},
   "source": [
    "### Modelos"
   ]
  },
  {
   "cell_type": "markdown",
   "id": "3cf0b458-12ec-445e-b6ab-4cf0449d2069",
   "metadata": {},
   "source": [
    "##### Callbacks"
   ]
  },
  {
   "cell_type": "code",
   "execution_count": 214,
   "id": "ca9eba5e-7c11-4c22-a725-aed9bbb34874",
   "metadata": {},
   "outputs": [],
   "source": [
    "class myCallback(tf.keras.callbacks.Callback):\n",
    "    def on_epoch_end(self, epoch, logs={}):\n",
    "        if(logs.get('accuracy') > 0.95):\n",
    "            print(\"\\nReached 95% accuracy so cancelling training!\")\n",
    "            self.model.stop_training = True"
   ]
  },
  {
   "cell_type": "code",
   "execution_count": 215,
   "id": "7bf8501a-5a43-4f98-9a7a-a1dcb88aa3c2",
   "metadata": {},
   "outputs": [],
   "source": [
    "callbacks = myCallback()"
   ]
  },
  {
   "cell_type": "markdown",
   "id": "d654fcb9-1214-4a24-a501-b6d5530ded36",
   "metadata": {},
   "source": [
    "##### ANN"
   ]
  },
  {
   "cell_type": "code",
   "execution_count": 216,
   "id": "575f56ea-5bc7-4781-89cc-f75a6c9a5817",
   "metadata": {},
   "outputs": [],
   "source": [
    "ann = Sequential([\n",
    "    Flatten(input_shape = (28, 28, 1)),\n",
    "    Dense(units = 128, activation = 'relu', kernel_initializer = GlorotUniform()),\n",
    "    #Dense(units = 256, activation = 'relu', kernel_initializer = GlorotUniform()),\n",
    "    Dense(units = 10, activation = 'softmax')\n",
    "])"
   ]
  },
  {
   "cell_type": "code",
   "execution_count": 217,
   "id": "d48ceb3c-0534-4eb0-9a6c-0d9e9c33e49f",
   "metadata": {},
   "outputs": [],
   "source": [
    "ann.compile(loss = 'categorical_crossentropy', optimizer = 'adam', metrics = ['accuracy'])"
   ]
  },
  {
   "cell_type": "code",
   "execution_count": 218,
   "id": "31a45d76-a32c-4636-8762-05d9133e0eab",
   "metadata": {},
   "outputs": [
    {
     "name": "stdout",
     "output_type": "stream",
     "text": [
      "Model: \"sequential_22\"\n",
      "_________________________________________________________________\n",
      "Layer (type)                 Output Shape              Param #   \n",
      "=================================================================\n",
      "flatten_23 (Flatten)         (None, 784)               0         \n",
      "_________________________________________________________________\n",
      "dense_49 (Dense)             (None, 128)               100480    \n",
      "_________________________________________________________________\n",
      "dense_50 (Dense)             (None, 10)                1290      \n",
      "=================================================================\n",
      "Total params: 101,770\n",
      "Trainable params: 101,770\n",
      "Non-trainable params: 0\n",
      "_________________________________________________________________\n"
     ]
    }
   ],
   "source": [
    "ann.summary()"
   ]
  },
  {
   "cell_type": "code",
   "execution_count": 219,
   "id": "c071491c-0cde-4935-a56f-2373b9dcf092",
   "metadata": {},
   "outputs": [
    {
     "name": "stdout",
     "output_type": "stream",
     "text": [
      "Epoch 1/10\n",
      "735/735 [==============================] - 4s 4ms/step - loss: 0.6368 - accuracy: 0.8214 - val_loss: 0.2198 - val_accuracy: 0.9327\n",
      "Epoch 2/10\n",
      "735/735 [==============================] - 3s 3ms/step - loss: 0.1855 - accuracy: 0.9469 - val_loss: 0.1565 - val_accuracy: 0.9507\n",
      "\n",
      "Reached 95% accuracy so cancelling training!\n",
      "Wall time: 6.1 s\n"
     ]
    }
   ],
   "source": [
    "%%time\n",
    "history = ann.fit(\n",
    "                x = X_train, \n",
    "                y = y_train,\n",
    "                epochs = 10,\n",
    "                batch_size = 32,\n",
    "                validation_split = 0.2,\n",
    "                callbacks = [callbacks]\n",
    "        )"
   ]
  },
  {
   "cell_type": "code",
   "execution_count": 220,
   "id": "0c5e7318-0e28-4d7e-ac73-bc8fa1b999d1",
   "metadata": {},
   "outputs": [],
   "source": [
    "ann.save('./models/MNIST_ann.h5')"
   ]
  },
  {
   "cell_type": "markdown",
   "id": "889b83bc-b305-46e3-abe1-631fb3362a85",
   "metadata": {},
   "source": [
    "##### CNN"
   ]
  },
  {
   "cell_type": "code",
   "execution_count": 221,
   "id": "d2fe7c60-b770-4e89-8236-e641fa3ad8b0",
   "metadata": {},
   "outputs": [],
   "source": [
    "cnn = Sequential([\n",
    "    Conv2D(filters = 16, kernel_size = (3,3), input_shape = (28, 28, 1), activation = 'relu', kernel_initializer = GlorotUniform()),\n",
    "    MaxPool2D(pool_size = (2,2)),\n",
    "    #Con2D(filters = 32, kernel_size = (3,3), activation = 'relu', kernel_initializer = GlorotUniform()),\n",
    "    #MaxPool2D(pool_size = (2,2)),\n",
    "    Flatten(),\n",
    "    Dense(units = 64, activation = 'relu', kernel_initializer = GlorotUniform()),\n",
    "    Dense(units = 10, activation = 'softmax')\n",
    "])"
   ]
  },
  {
   "cell_type": "code",
   "execution_count": 222,
   "id": "6443f68c-7192-4f05-90ed-081d023f4985",
   "metadata": {},
   "outputs": [],
   "source": [
    "cnn.compile(loss = 'categorical_crossentropy', optimizer = 'adam', metrics = ['accuracy'])"
   ]
  },
  {
   "cell_type": "code",
   "execution_count": 223,
   "id": "56e72c8f-196b-4885-bf66-6afdfc010c0f",
   "metadata": {},
   "outputs": [
    {
     "name": "stdout",
     "output_type": "stream",
     "text": [
      "Model: \"sequential_23\"\n",
      "_________________________________________________________________\n",
      "Layer (type)                 Output Shape              Param #   \n",
      "=================================================================\n",
      "conv2d_14 (Conv2D)           (None, 26, 26, 16)        160       \n",
      "_________________________________________________________________\n",
      "max_pooling2d_14 (MaxPooling (None, 13, 13, 16)        0         \n",
      "_________________________________________________________________\n",
      "flatten_24 (Flatten)         (None, 2704)              0         \n",
      "_________________________________________________________________\n",
      "dense_51 (Dense)             (None, 64)                173120    \n",
      "_________________________________________________________________\n",
      "dense_52 (Dense)             (None, 10)                650       \n",
      "=================================================================\n",
      "Total params: 173,930\n",
      "Trainable params: 173,930\n",
      "Non-trainable params: 0\n",
      "_________________________________________________________________\n"
     ]
    }
   ],
   "source": [
    "cnn.summary()"
   ]
  },
  {
   "cell_type": "code",
   "execution_count": 224,
   "id": "4e1b6221-afa1-4c07-8f97-c69c54f16b6f",
   "metadata": {},
   "outputs": [
    {
     "name": "stdout",
     "output_type": "stream",
     "text": [
      "Epoch 1/10\n",
      "735/735 [==============================] - 11s 6ms/step - loss: 0.5656 - accuracy: 0.8356 - val_loss: 0.1463 - val_accuracy: 0.9548\n",
      "Epoch 2/10\n",
      "735/735 [==============================] - 4s 5ms/step - loss: 0.1174 - accuracy: 0.9664 - val_loss: 0.1138 - val_accuracy: 0.9624\n",
      "\n",
      "Reached 95% accuracy so cancelling training!\n"
     ]
    },
    {
     "data": {
      "text/plain": [
       "<keras.callbacks.History at 0x17a9c653d60>"
      ]
     },
     "execution_count": 224,
     "metadata": {},
     "output_type": "execute_result"
    }
   ],
   "source": [
    "cnn.fit(\n",
    "     x = X_train\n",
    "    ,y = y_train\n",
    "    ,epochs = 10\n",
    "    ,batch_size = 32\n",
    "    ,validation_split = 0.2\n",
    "    ,callbacks = [callbacks]\n",
    ")"
   ]
  },
  {
   "cell_type": "code",
   "execution_count": 225,
   "id": "11b1ecd5-7223-4a5a-85d7-9139374eca8e",
   "metadata": {},
   "outputs": [],
   "source": [
    "cnn.save('./models/MNIST_cnn.h5')"
   ]
  },
  {
   "cell_type": "markdown",
   "id": "6ec9a8ea-ecd0-42d4-97a0-24b2cbe6e0b4",
   "metadata": {},
   "source": [
    "### Predicciones"
   ]
  },
  {
   "cell_type": "code",
   "execution_count": 312,
   "id": "d537b2cf-4c86-4f71-8bba-feb5b25379f4",
   "metadata": {},
   "outputs": [],
   "source": [
    "def predictNumbers(model, X_test, y_test):\n",
    "    probs = model.predict(X_test)\n",
    "    class_prob = np.max(probs, axis = 1)\n",
    "    predictions = np.argmax(probs, axis = 1)\n",
    "    labels = np.argmax(y_test, axis = 1)\n",
    "    match = predictions == labels\n",
    "    \n",
    "    results = pd.DataFrame({'Class_prediction': predictions, 'Class_prob': class_prob, 'Label': labels, 'Matches': match})\n",
    "    return results, probs    "
   ]
  },
  {
   "cell_type": "code",
   "execution_count": 318,
   "id": "5f4f0887-f99d-4823-b132-9c4121fb337f",
   "metadata": {},
   "outputs": [],
   "source": [
    "def sampleImagePredictions(results, data, title = ''):\n",
    "    #indexes = np.random.choice(list(results.index), size = 9, replace = False)\n",
    "    indexes = np.random.randint(0, len(results), 9)\n",
    "    fig, axs = plt.subplots(nrows = 3, ncols = 3, figsize = (8, 8))\n",
    "    m = 0\n",
    "    \n",
    "    for i in range(0, 3):\n",
    "        for j in range(0, 3):\n",
    "            y_hat = results.loc[indexes[m], 'Class_prediction']\n",
    "            y = results.loc[indexes[m], 'Label']\n",
    "            axs[i, j].imshow(data[indexes[m]], cmap = \"gray\")\n",
    "            axs[i, j].set_title('Model Prediction = {}\\nReal Label = {}'.format(y_hat, y))\n",
    "            m += 1\n",
    "            \n",
    "            \n",
    "    fig.suptitle(title)\n",
    "    plt.subplots_adjust(left=0.1,\n",
    "                    bottom=0.1, \n",
    "                    right=0.9, \n",
    "                    top=0.9, \n",
    "                    wspace=0.4, \n",
    "                    hspace=0.4)\n",
    "    plt.show()\n",
    "    return indexes"
   ]
  },
  {
   "cell_type": "markdown",
   "id": "63c8a032-bc05-4d87-a694-12e0f508fe9d",
   "metadata": {},
   "source": [
    "##### ANN Predictions"
   ]
  },
  {
   "cell_type": "code",
   "execution_count": 319,
   "id": "1b1532a5-5033-4de3-9f2f-237e3f64ef80",
   "metadata": {},
   "outputs": [],
   "source": [
    "ann_results, ann_probs = predictNumbers(ann, X_test, y_test)"
   ]
  },
  {
   "cell_type": "code",
   "execution_count": 320,
   "id": "75d78851-c830-4395-b40e-25dfb4f9c783",
   "metadata": {},
   "outputs": [
    {
     "data": {
      "text/plain": [
       "array([[4.9982496e-06, 4.5190002e-03, 9.8227388e-01, ..., 3.2014694e-05,\n",
       "        1.6540482e-05, 1.0076710e-06],\n",
       "       [6.5297005e-05, 2.5968675e-05, 9.9588948e-01, ..., 1.0870704e-03,\n",
       "        1.9600436e-04, 4.3130069e-04],\n",
       "       [9.9989057e-01, 2.0809305e-09, 9.6442488e-07, ..., 2.2177116e-07,\n",
       "        4.8216572e-07, 8.6523163e-05],\n",
       "       ...,\n",
       "       [3.7481252e-05, 3.9558028e-08, 8.1205319e-05, ..., 1.7419973e-02,\n",
       "        8.4191306e-05, 9.6320021e-01],\n",
       "       [1.9105400e-01, 4.7330070e-07, 4.8311587e-04, ..., 2.8552578e-05,\n",
       "        8.2726211e-07, 4.9570990e-05],\n",
       "       [7.9943180e-05, 1.0829632e-03, 4.3441539e-04, ..., 1.8290271e-03,\n",
       "        3.7166469e-03, 2.0171940e-01]], dtype=float32)"
      ]
     },
     "execution_count": 320,
     "metadata": {},
     "output_type": "execute_result"
    }
   ],
   "source": [
    "ann_probs"
   ]
  },
  {
   "cell_type": "code",
   "execution_count": 321,
   "id": "49a4f6ef-b4d9-420e-aebc-af22d43e3fdd",
   "metadata": {},
   "outputs": [
    {
     "data": {
      "text/html": [
       "<div>\n",
       "<style scoped>\n",
       "    .dataframe tbody tr th:only-of-type {\n",
       "        vertical-align: middle;\n",
       "    }\n",
       "\n",
       "    .dataframe tbody tr th {\n",
       "        vertical-align: top;\n",
       "    }\n",
       "\n",
       "    .dataframe thead th {\n",
       "        text-align: right;\n",
       "    }\n",
       "</style>\n",
       "<table border=\"1\" class=\"dataframe\">\n",
       "  <thead>\n",
       "    <tr style=\"text-align: right;\">\n",
       "      <th></th>\n",
       "      <th>Class_prediction</th>\n",
       "      <th>Class_prob</th>\n",
       "      <th>Label</th>\n",
       "      <th>Matches</th>\n",
       "    </tr>\n",
       "  </thead>\n",
       "  <tbody>\n",
       "    <tr>\n",
       "      <th>0</th>\n",
       "      <td>2</td>\n",
       "      <td>0.982274</td>\n",
       "      <td>2</td>\n",
       "      <td>True</td>\n",
       "    </tr>\n",
       "    <tr>\n",
       "      <th>1</th>\n",
       "      <td>2</td>\n",
       "      <td>0.995889</td>\n",
       "      <td>2</td>\n",
       "      <td>True</td>\n",
       "    </tr>\n",
       "    <tr>\n",
       "      <th>2</th>\n",
       "      <td>0</td>\n",
       "      <td>0.999891</td>\n",
       "      <td>0</td>\n",
       "      <td>True</td>\n",
       "    </tr>\n",
       "    <tr>\n",
       "      <th>3</th>\n",
       "      <td>9</td>\n",
       "      <td>0.999353</td>\n",
       "      <td>9</td>\n",
       "      <td>True</td>\n",
       "    </tr>\n",
       "    <tr>\n",
       "      <th>4</th>\n",
       "      <td>4</td>\n",
       "      <td>0.814407</td>\n",
       "      <td>4</td>\n",
       "      <td>True</td>\n",
       "    </tr>\n",
       "    <tr>\n",
       "      <th>...</th>\n",
       "      <td>...</td>\n",
       "      <td>...</td>\n",
       "      <td>...</td>\n",
       "      <td>...</td>\n",
       "    </tr>\n",
       "    <tr>\n",
       "      <th>12595</th>\n",
       "      <td>7</td>\n",
       "      <td>0.604340</td>\n",
       "      <td>7</td>\n",
       "      <td>True</td>\n",
       "    </tr>\n",
       "    <tr>\n",
       "      <th>12596</th>\n",
       "      <td>8</td>\n",
       "      <td>0.970175</td>\n",
       "      <td>8</td>\n",
       "      <td>True</td>\n",
       "    </tr>\n",
       "    <tr>\n",
       "      <th>12597</th>\n",
       "      <td>9</td>\n",
       "      <td>0.963200</td>\n",
       "      <td>9</td>\n",
       "      <td>True</td>\n",
       "    </tr>\n",
       "    <tr>\n",
       "      <th>12598</th>\n",
       "      <td>6</td>\n",
       "      <td>0.786332</td>\n",
       "      <td>6</td>\n",
       "      <td>True</td>\n",
       "    </tr>\n",
       "    <tr>\n",
       "      <th>12599</th>\n",
       "      <td>3</td>\n",
       "      <td>0.787914</td>\n",
       "      <td>3</td>\n",
       "      <td>True</td>\n",
       "    </tr>\n",
       "  </tbody>\n",
       "</table>\n",
       "<p>12600 rows × 4 columns</p>\n",
       "</div>"
      ],
      "text/plain": [
       "       Class_prediction  Class_prob  Label  Matches\n",
       "0                     2    0.982274      2     True\n",
       "1                     2    0.995889      2     True\n",
       "2                     0    0.999891      0     True\n",
       "3                     9    0.999353      9     True\n",
       "4                     4    0.814407      4     True\n",
       "...                 ...         ...    ...      ...\n",
       "12595                 7    0.604340      7     True\n",
       "12596                 8    0.970175      8     True\n",
       "12597                 9    0.963200      9     True\n",
       "12598                 6    0.786332      6     True\n",
       "12599                 3    0.787914      3     True\n",
       "\n",
       "[12600 rows x 4 columns]"
      ]
     },
     "execution_count": 321,
     "metadata": {},
     "output_type": "execute_result"
    }
   ],
   "source": [
    "ann_results"
   ]
  },
  {
   "cell_type": "code",
   "execution_count": 323,
   "id": "e9e97760-f99e-4bae-a58f-875dacad337d",
   "metadata": {},
   "outputs": [
    {
     "data": {
      "image/png": "[encoded data removed]",
      "text/plain": [
       "<Figure size 576x576 with 9 Axes>"
      ]
     },
     "metadata": {
      "needs_background": "light"
     },
     "output_type": "display_data"
    },
    {
     "data": {
      "text/plain": [
       "array([ 2893, 11236,  1350, 10426,   350,  1693,  7831, 10389, 11396])"
      ]
     },
     "execution_count": 323,
     "metadata": {},
     "output_type": "execute_result"
    }
   ],
   "source": [
    "sampleImagePredictions(ann_results, X_test, 'ANN Predictions')"
   ]
  },
  {
   "cell_type": "code",
   "execution_count": 327,
   "id": "60629ba6-587d-4796-99e6-5e6efd7aec75",
   "metadata": {},
   "outputs": [
    {
     "name": "stdout",
     "output_type": "stream",
     "text": [
      "Model ANN Accuracy = 0.9536507936507936\n"
     ]
    }
   ],
   "source": [
    "accuracy = ann_results['Matches'].sum() / ann_results['Matches'].count()\n",
    "print(\"Model ANN Accuracy = {}\".format(accuracy))"
   ]
  },
  {
   "cell_type": "markdown",
   "id": "06091857-aa59-4932-a8f6-ba4dac3c26e7",
   "metadata": {},
   "source": [
    "##### CNN Predictions"
   ]
  },
  {
   "cell_type": "code",
   "execution_count": 328,
   "id": "f7023ca6-c108-433d-80ff-849cd207a49e",
   "metadata": {},
   "outputs": [],
   "source": [
    "cnn_results, cnn_probs = predictNumbers(cnn, X_test, y_test)"
   ]
  },
  {
   "cell_type": "code",
   "execution_count": 329,
   "id": "4aa04d99-3f65-4f92-8d95-4fc1dba13e9d",
   "metadata": {},
   "outputs": [
    {
     "data": {
      "text/plain": [
       "array([[1.0663961e-07, 1.1841359e-02, 9.7218567e-01, ..., 2.6412292e-05,\n",
       "        1.4349559e-05, 2.5567707e-07],\n",
       "       [1.6210261e-06, 9.3368112e-07, 9.9891877e-01, ..., 9.1991003e-04,\n",
       "        3.4801255e-05, 5.3907303e-07],\n",
       "       [9.9976820e-01, 1.2829258e-10, 5.1996494e-07, ..., 6.0099308e-09,\n",
       "        3.5606902e-06, 2.2265557e-04],\n",
       "       ...,\n",
       "       [3.3908549e-05, 5.2692013e-07, 2.8673207e-04, ..., 2.3029903e-02,\n",
       "        4.1755411e-04, 9.5796508e-01],\n",
       "       [1.0240996e-01, 1.3382606e-07, 5.0501727e-05, ..., 2.2224986e-05,\n",
       "        3.2782813e-05, 1.6724951e-04],\n",
       "       [3.3541442e-06, 7.8637508e-04, 5.7711772e-05, ..., 3.0550538e-05,\n",
       "        7.6131092e-04, 8.0181761e-03]], dtype=float32)"
      ]
     },
     "execution_count": 329,
     "metadata": {},
     "output_type": "execute_result"
    }
   ],
   "source": [
    "cnn_probs"
   ]
  },
  {
   "cell_type": "code",
   "execution_count": 330,
   "id": "0a956d60-a380-4a40-af73-8e9bffdf8fd4",
   "metadata": {},
   "outputs": [
    {
     "data": {
      "text/html": [
       "<div>\n",
       "<style scoped>\n",
       "    .dataframe tbody tr th:only-of-type {\n",
       "        vertical-align: middle;\n",
       "    }\n",
       "\n",
       "    .dataframe tbody tr th {\n",
       "        vertical-align: top;\n",
       "    }\n",
       "\n",
       "    .dataframe thead th {\n",
       "        text-align: right;\n",
       "    }\n",
       "</style>\n",
       "<table border=\"1\" class=\"dataframe\">\n",
       "  <thead>\n",
       "    <tr style=\"text-align: right;\">\n",
       "      <th></th>\n",
       "      <th>Class_prediction</th>\n",
       "      <th>Class_prob</th>\n",
       "      <th>Label</th>\n",
       "      <th>Matches</th>\n",
       "    </tr>\n",
       "  </thead>\n",
       "  <tbody>\n",
       "    <tr>\n",
       "      <th>0</th>\n",
       "      <td>2</td>\n",
       "      <td>0.972186</td>\n",
       "      <td>2</td>\n",
       "      <td>True</td>\n",
       "    </tr>\n",
       "    <tr>\n",
       "      <th>1</th>\n",
       "      <td>2</td>\n",
       "      <td>0.998919</td>\n",
       "      <td>2</td>\n",
       "      <td>True</td>\n",
       "    </tr>\n",
       "    <tr>\n",
       "      <th>2</th>\n",
       "      <td>0</td>\n",
       "      <td>0.999768</td>\n",
       "      <td>0</td>\n",
       "      <td>True</td>\n",
       "    </tr>\n",
       "    <tr>\n",
       "      <th>3</th>\n",
       "      <td>9</td>\n",
       "      <td>0.999882</td>\n",
       "      <td>9</td>\n",
       "      <td>True</td>\n",
       "    </tr>\n",
       "    <tr>\n",
       "      <th>4</th>\n",
       "      <td>4</td>\n",
       "      <td>0.943255</td>\n",
       "      <td>4</td>\n",
       "      <td>True</td>\n",
       "    </tr>\n",
       "    <tr>\n",
       "      <th>...</th>\n",
       "      <td>...</td>\n",
       "      <td>...</td>\n",
       "      <td>...</td>\n",
       "      <td>...</td>\n",
       "    </tr>\n",
       "    <tr>\n",
       "      <th>12595</th>\n",
       "      <td>9</td>\n",
       "      <td>0.632580</td>\n",
       "      <td>7</td>\n",
       "      <td>False</td>\n",
       "    </tr>\n",
       "    <tr>\n",
       "      <th>12596</th>\n",
       "      <td>8</td>\n",
       "      <td>0.980641</td>\n",
       "      <td>8</td>\n",
       "      <td>True</td>\n",
       "    </tr>\n",
       "    <tr>\n",
       "      <th>12597</th>\n",
       "      <td>9</td>\n",
       "      <td>0.957965</td>\n",
       "      <td>9</td>\n",
       "      <td>True</td>\n",
       "    </tr>\n",
       "    <tr>\n",
       "      <th>12598</th>\n",
       "      <td>6</td>\n",
       "      <td>0.892099</td>\n",
       "      <td>6</td>\n",
       "      <td>True</td>\n",
       "    </tr>\n",
       "    <tr>\n",
       "      <th>12599</th>\n",
       "      <td>3</td>\n",
       "      <td>0.989897</td>\n",
       "      <td>3</td>\n",
       "      <td>True</td>\n",
       "    </tr>\n",
       "  </tbody>\n",
       "</table>\n",
       "<p>12600 rows × 4 columns</p>\n",
       "</div>"
      ],
      "text/plain": [
       "       Class_prediction  Class_prob  Label  Matches\n",
       "0                     2    0.972186      2     True\n",
       "1                     2    0.998919      2     True\n",
       "2                     0    0.999768      0     True\n",
       "3                     9    0.999882      9     True\n",
       "4                     4    0.943255      4     True\n",
       "...                 ...         ...    ...      ...\n",
       "12595                 9    0.632580      7    False\n",
       "12596                 8    0.980641      8     True\n",
       "12597                 9    0.957965      9     True\n",
       "12598                 6    0.892099      6     True\n",
       "12599                 3    0.989897      3     True\n",
       "\n",
       "[12600 rows x 4 columns]"
      ]
     },
     "execution_count": 330,
     "metadata": {},
     "output_type": "execute_result"
    }
   ],
   "source": [
    "cnn_results"
   ]
  },
  {
   "cell_type": "code",
   "execution_count": 331,
   "id": "a5784359-5d61-4860-8016-5a89d35151eb",
   "metadata": {},
   "outputs": [
    {
     "data": {
      "image/png": "[encoded data removed]",
      "text/plain": [
       "<Figure size 576x576 with 9 Axes>"
      ]
     },
     "metadata": {
      "needs_background": "light"
     },
     "output_type": "display_data"
    },
    {
     "data": {
      "text/plain": [
       "array([  925, 12096,  1720,  3829,  3711,  2671, 10423,  5103,  9447])"
      ]
     },
     "execution_count": 331,
     "metadata": {},
     "output_type": "execute_result"
    }
   ],
   "source": [
    "sampleImagePredictions(cnn_results, X_test, 'CNN Predictions')"
   ]
  },
  {
   "cell_type": "code",
   "execution_count": 332,
   "id": "ba7dbb97-1950-4e52-a584-73feb1738da7",
   "metadata": {},
   "outputs": [
    {
     "name": "stdout",
     "output_type": "stream",
     "text": [
      "Model CNN Accuracy = 0.9641269841269842\n"
     ]
    }
   ],
   "source": [
    "accuracy = cnn_results['Matches'].sum() / cnn_results['Matches'].count()\n",
    "print(\"Model CNN Accuracy = {}\".format(accuracy))"
   ]
  },
  {
   "cell_type": "markdown",
   "id": "12839eb1-f49f-4778-abf9-ac851e47a116",
   "metadata": {},
   "source": [
    "### Conclusiones\n",
    "- El modelo entrenado por medio de CNN presenta una acierto mayor que el modelo de ANN con valores de 96.41% y 95.37% respectivamente"
   ]
  }
 ],
 "metadata": {
  "kernelspec": {
   "display_name": "Python 3",
   "language": "python",
   "name": "python3"
  },
  "language_info": {
   "codemirror_mode": {
    "name": "ipython",
    "version": 3
   },
   "file_extension": ".py",
   "mimetype": "text/x-python",
   "name": "python",
   "nbconvert_exporter": "python",
   "pygments_lexer": "ipython3",
   "version": "3.9.4"
  }
 },
 "nbformat": 4,
 "nbformat_minor": 5
}
