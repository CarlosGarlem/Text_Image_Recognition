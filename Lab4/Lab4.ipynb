{
  "nbformat": 4,
  "nbformat_minor": 5,
  "metadata": {
    "kernelspec": {
      "display_name": "Python 3",
      "language": "python",
      "name": "python3"
    },
    "language_info": {
      "codemirror_mode": {
        "name": "ipython",
        "version": 3
      },
      "file_extension": ".py",
      "mimetype": "text/x-python",
      "name": "python",
      "nbconvert_exporter": "python",
      "pygments_lexer": "ipython3",
      "version": "3.9.4"
    },
    "colab": {
      "name": "Lab4.ipynb",
      "provenance": [],
      "collapsed_sections": []
    }
  },
  "cells": [
    {
      "cell_type": "code",
      "metadata": {
        "id": "3d96092e-a42b-4c00-be13-8b5a3bf66b99"
      },
      "source": [
        "import pandas as pd\n",
        "import numpy as np\n",
        "import spacy\n",
        "import re"
      ],
      "id": "3d96092e-a42b-4c00-be13-8b5a3bf66b99",
      "execution_count": 1,
      "outputs": []
    },
    {
      "cell_type": "code",
      "metadata": {
        "colab": {
          "base_uri": "https://localhost:8080/"
        },
        "id": "FhC4YyUoA-Pw",
        "outputId": "6fd276cc-5e5f-44a7-eb55-2db766953432"
      },
      "source": [
        "from google.colab import drive\n",
        "drive.mount('/content/drive')"
      ],
      "id": "FhC4YyUoA-Pw",
      "execution_count": 2,
      "outputs": [
        {
          "output_type": "stream",
          "text": [
            "Mounted at /content/drive\n"
          ],
          "name": "stdout"
        }
      ]
    },
    {
      "cell_type": "code",
      "metadata": {
        "colab": {
          "base_uri": "https://localhost:8080/"
        },
        "id": "1rqVVizRA3rp",
        "outputId": "c70be895-f2bd-49ea-e8c9-fc944c600d06"
      },
      "source": [
        "% cd drive/MyDrive/Lab4/"
      ],
      "id": "1rqVVizRA3rp",
      "execution_count": 3,
      "outputs": [
        {
          "output_type": "stream",
          "text": [
            "/content/drive/MyDrive/Lab4\n"
          ],
          "name": "stdout"
        }
      ]
    },
    {
      "cell_type": "markdown",
      "metadata": {
        "id": "b206e752-0620-44fc-9766-d2e0ae68b3b1"
      },
      "source": [
        "### Obtencion de datos"
      ],
      "id": "b206e752-0620-44fc-9766-d2e0ae68b3b1"
    },
    {
      "cell_type": "code",
      "metadata": {
        "colab": {
          "base_uri": "https://localhost:8080/",
          "height": 204
        },
        "id": "52d43594-9825-44d1-a808-d3ed45af1dc1",
        "outputId": "38b9bafe-84e0-443f-c1f2-60ded724e22f"
      },
      "source": [
        "data = pd.read_csv('./input/training.csv', header = None, names = ['sk_id', 'tweet_number', 'date', 'query', 'user', 'content'], encoding = \"ISO-8859-1\")\n",
        "data.head()"
      ],
      "id": "52d43594-9825-44d1-a808-d3ed45af1dc1",
      "execution_count": 4,
      "outputs": [
        {
          "output_type": "execute_result",
          "data": {
            "text/html": [
              "<div>\n",
              "<style scoped>\n",
              "    .dataframe tbody tr th:only-of-type {\n",
              "        vertical-align: middle;\n",
              "    }\n",
              "\n",
              "    .dataframe tbody tr th {\n",
              "        vertical-align: top;\n",
              "    }\n",
              "\n",
              "    .dataframe thead th {\n",
              "        text-align: right;\n",
              "    }\n",
              "</style>\n",
              "<table border=\"1\" class=\"dataframe\">\n",
              "  <thead>\n",
              "    <tr style=\"text-align: right;\">\n",
              "      <th></th>\n",
              "      <th>sk_id</th>\n",
              "      <th>tweet_number</th>\n",
              "      <th>date</th>\n",
              "      <th>query</th>\n",
              "      <th>user</th>\n",
              "      <th>content</th>\n",
              "    </tr>\n",
              "  </thead>\n",
              "  <tbody>\n",
              "    <tr>\n",
              "      <th>0</th>\n",
              "      <td>0</td>\n",
              "      <td>1467810369</td>\n",
              "      <td>Mon Apr 06 22:19:45 PDT 2009</td>\n",
              "      <td>NO_QUERY</td>\n",
              "      <td>_TheSpecialOne_</td>\n",
              "      <td>@switchfoot http://twitpic.com/2y1zl - Awww, t...</td>\n",
              "    </tr>\n",
              "    <tr>\n",
              "      <th>1</th>\n",
              "      <td>0</td>\n",
              "      <td>1467810672</td>\n",
              "      <td>Mon Apr 06 22:19:49 PDT 2009</td>\n",
              "      <td>NO_QUERY</td>\n",
              "      <td>scotthamilton</td>\n",
              "      <td>is upset that he can't update his Facebook by ...</td>\n",
              "    </tr>\n",
              "    <tr>\n",
              "      <th>2</th>\n",
              "      <td>0</td>\n",
              "      <td>1467810917</td>\n",
              "      <td>Mon Apr 06 22:19:53 PDT 2009</td>\n",
              "      <td>NO_QUERY</td>\n",
              "      <td>mattycus</td>\n",
              "      <td>@Kenichan I dived many times for the ball. Man...</td>\n",
              "    </tr>\n",
              "    <tr>\n",
              "      <th>3</th>\n",
              "      <td>0</td>\n",
              "      <td>1467811184</td>\n",
              "      <td>Mon Apr 06 22:19:57 PDT 2009</td>\n",
              "      <td>NO_QUERY</td>\n",
              "      <td>ElleCTF</td>\n",
              "      <td>my whole body feels itchy and like its on fire</td>\n",
              "    </tr>\n",
              "    <tr>\n",
              "      <th>4</th>\n",
              "      <td>0</td>\n",
              "      <td>1467811193</td>\n",
              "      <td>Mon Apr 06 22:19:57 PDT 2009</td>\n",
              "      <td>NO_QUERY</td>\n",
              "      <td>Karoli</td>\n",
              "      <td>@nationwideclass no, it's not behaving at all....</td>\n",
              "    </tr>\n",
              "  </tbody>\n",
              "</table>\n",
              "</div>"
            ],
            "text/plain": [
              "   sk_id  ...                                            content\n",
              "0      0  ...  @switchfoot http://twitpic.com/2y1zl - Awww, t...\n",
              "1      0  ...  is upset that he can't update his Facebook by ...\n",
              "2      0  ...  @Kenichan I dived many times for the ball. Man...\n",
              "3      0  ...    my whole body feels itchy and like its on fire \n",
              "4      0  ...  @nationwideclass no, it's not behaving at all....\n",
              "\n",
              "[5 rows x 6 columns]"
            ]
          },
          "metadata": {},
          "execution_count": 4
        }
      ]
    },
    {
      "cell_type": "code",
      "metadata": {
        "colab": {
          "base_uri": "https://localhost:8080/"
        },
        "id": "f0095d62-60b8-4790-acf9-2f8d7f2db74e",
        "outputId": "bcab6a33-0a2a-4389-f45a-71532b5bcac1"
      },
      "source": [
        "data.shape"
      ],
      "id": "f0095d62-60b8-4790-acf9-2f8d7f2db74e",
      "execution_count": 5,
      "outputs": [
        {
          "output_type": "execute_result",
          "data": {
            "text/plain": [
              "(1600000, 6)"
            ]
          },
          "metadata": {},
          "execution_count": 5
        }
      ]
    },
    {
      "cell_type": "markdown",
      "metadata": {
        "id": "a7ea6fe5-9e46-4c77-8719-538cddaa04b9"
      },
      "source": [
        "### Top users"
      ],
      "id": "a7ea6fe5-9e46-4c77-8719-538cddaa04b9"
    },
    {
      "cell_type": "code",
      "metadata": {
        "id": "AGDcELQYEZbF"
      },
      "source": [
        "def getTweetId(tweet):\n",
        "    pattern = r'(@\\w+)'\n",
        "    match = re.findall(pattern, tweet)\n",
        "    if len(match) > 0:\n",
        "      return ' '.join(match)\n",
        "    else:\n",
        "      return 'Undefined'"
      ],
      "id": "AGDcELQYEZbF",
      "execution_count": 6,
      "outputs": []
    },
    {
      "cell_type": "code",
      "metadata": {
        "id": "a99faf85-cb98-4396-92a8-53ee737694be"
      },
      "source": [
        "data['tweet_id'] = data.apply(lambda row: getTweetId(row['content']), axis = 1)"
      ],
      "id": "a99faf85-cb98-4396-92a8-53ee737694be",
      "execution_count": 7,
      "outputs": []
    },
    {
      "cell_type": "code",
      "metadata": {
        "colab": {
          "base_uri": "https://localhost:8080/",
          "height": 204
        },
        "id": "eIosf3aLE_S9",
        "outputId": "43d0c71c-7d51-402e-c54f-87f882d67582"
      },
      "source": [
        "data.head()"
      ],
      "id": "eIosf3aLE_S9",
      "execution_count": 8,
      "outputs": [
        {
          "output_type": "execute_result",
          "data": {
            "text/html": [
              "<div>\n",
              "<style scoped>\n",
              "    .dataframe tbody tr th:only-of-type {\n",
              "        vertical-align: middle;\n",
              "    }\n",
              "\n",
              "    .dataframe tbody tr th {\n",
              "        vertical-align: top;\n",
              "    }\n",
              "\n",
              "    .dataframe thead th {\n",
              "        text-align: right;\n",
              "    }\n",
              "</style>\n",
              "<table border=\"1\" class=\"dataframe\">\n",
              "  <thead>\n",
              "    <tr style=\"text-align: right;\">\n",
              "      <th></th>\n",
              "      <th>sk_id</th>\n",
              "      <th>tweet_number</th>\n",
              "      <th>date</th>\n",
              "      <th>query</th>\n",
              "      <th>user</th>\n",
              "      <th>content</th>\n",
              "      <th>tweet_id</th>\n",
              "    </tr>\n",
              "  </thead>\n",
              "  <tbody>\n",
              "    <tr>\n",
              "      <th>0</th>\n",
              "      <td>0</td>\n",
              "      <td>1467810369</td>\n",
              "      <td>Mon Apr 06 22:19:45 PDT 2009</td>\n",
              "      <td>NO_QUERY</td>\n",
              "      <td>_TheSpecialOne_</td>\n",
              "      <td>@switchfoot http://twitpic.com/2y1zl - Awww, t...</td>\n",
              "      <td>@switchfoot</td>\n",
              "    </tr>\n",
              "    <tr>\n",
              "      <th>1</th>\n",
              "      <td>0</td>\n",
              "      <td>1467810672</td>\n",
              "      <td>Mon Apr 06 22:19:49 PDT 2009</td>\n",
              "      <td>NO_QUERY</td>\n",
              "      <td>scotthamilton</td>\n",
              "      <td>is upset that he can't update his Facebook by ...</td>\n",
              "      <td>Undefined</td>\n",
              "    </tr>\n",
              "    <tr>\n",
              "      <th>2</th>\n",
              "      <td>0</td>\n",
              "      <td>1467810917</td>\n",
              "      <td>Mon Apr 06 22:19:53 PDT 2009</td>\n",
              "      <td>NO_QUERY</td>\n",
              "      <td>mattycus</td>\n",
              "      <td>@Kenichan I dived many times for the ball. Man...</td>\n",
              "      <td>@Kenichan</td>\n",
              "    </tr>\n",
              "    <tr>\n",
              "      <th>3</th>\n",
              "      <td>0</td>\n",
              "      <td>1467811184</td>\n",
              "      <td>Mon Apr 06 22:19:57 PDT 2009</td>\n",
              "      <td>NO_QUERY</td>\n",
              "      <td>ElleCTF</td>\n",
              "      <td>my whole body feels itchy and like its on fire</td>\n",
              "      <td>Undefined</td>\n",
              "    </tr>\n",
              "    <tr>\n",
              "      <th>4</th>\n",
              "      <td>0</td>\n",
              "      <td>1467811193</td>\n",
              "      <td>Mon Apr 06 22:19:57 PDT 2009</td>\n",
              "      <td>NO_QUERY</td>\n",
              "      <td>Karoli</td>\n",
              "      <td>@nationwideclass no, it's not behaving at all....</td>\n",
              "      <td>@nationwideclass</td>\n",
              "    </tr>\n",
              "  </tbody>\n",
              "</table>\n",
              "</div>"
            ],
            "text/plain": [
              "   sk_id  ...          tweet_id\n",
              "0      0  ...       @switchfoot\n",
              "1      0  ...         Undefined\n",
              "2      0  ...         @Kenichan\n",
              "3      0  ...         Undefined\n",
              "4      0  ...  @nationwideclass\n",
              "\n",
              "[5 rows x 7 columns]"
            ]
          },
          "metadata": {},
          "execution_count": 8
        }
      ]
    },
    {
      "cell_type": "code",
      "metadata": {
        "colab": {
          "base_uri": "https://localhost:8080/"
        },
        "id": "56437467-0bf8-4db0-9b53-7f8cb4f45480",
        "outputId": "8e2acfa5-814d-4600-81f1-6d54607f4d2f"
      },
      "source": [
        "print(data['tweet_id'].value_counts()[0:4])\n",
        "top_users = list(data['tweet_id'].value_counts()[1:4].index)\n",
        "top_users"
      ],
      "id": "56437467-0bf8-4db0-9b53-7f8cb4f45480",
      "execution_count": 9,
      "outputs": [
        {
          "output_type": "stream",
          "text": [
            "Undefined      861507\n",
            "@mileycyrus      4145\n",
            "@tommcfly        3608\n",
            "@ddlovato        3109\n",
            "Name: tweet_id, dtype: int64\n"
          ],
          "name": "stdout"
        },
        {
          "output_type": "execute_result",
          "data": {
            "text/plain": [
              "['@mileycyrus', '@tommcfly', '@ddlovato']"
            ]
          },
          "metadata": {},
          "execution_count": 9
        }
      ]
    },
    {
      "cell_type": "markdown",
      "metadata": {
        "id": "eeaf1993-7e50-4065-b319-495b7635cda4"
      },
      "source": [
        "### Corpus"
      ],
      "id": "eeaf1993-7e50-4065-b319-495b7635cda4"
    },
    {
      "cell_type": "code",
      "metadata": {
        "colab": {
          "base_uri": "https://localhost:8080/",
          "height": 204
        },
        "id": "db2596f1-186b-43e7-a64c-649de3cf447e",
        "outputId": "4b11590e-2157-4073-e44e-392b7997a35b"
      },
      "source": [
        "data['timestamp'] =  pd.to_datetime(data['date'], format = '%a %b %d %H:%M:%S PDT %Y')\n",
        "data['tweet_length'] = data['content'].str.len()\n",
        "data.head()"
      ],
      "id": "db2596f1-186b-43e7-a64c-649de3cf447e",
      "execution_count": 10,
      "outputs": [
        {
          "output_type": "execute_result",
          "data": {
            "text/html": [
              "<div>\n",
              "<style scoped>\n",
              "    .dataframe tbody tr th:only-of-type {\n",
              "        vertical-align: middle;\n",
              "    }\n",
              "\n",
              "    .dataframe tbody tr th {\n",
              "        vertical-align: top;\n",
              "    }\n",
              "\n",
              "    .dataframe thead th {\n",
              "        text-align: right;\n",
              "    }\n",
              "</style>\n",
              "<table border=\"1\" class=\"dataframe\">\n",
              "  <thead>\n",
              "    <tr style=\"text-align: right;\">\n",
              "      <th></th>\n",
              "      <th>sk_id</th>\n",
              "      <th>tweet_number</th>\n",
              "      <th>date</th>\n",
              "      <th>query</th>\n",
              "      <th>user</th>\n",
              "      <th>content</th>\n",
              "      <th>tweet_id</th>\n",
              "      <th>timestamp</th>\n",
              "      <th>tweet_length</th>\n",
              "    </tr>\n",
              "  </thead>\n",
              "  <tbody>\n",
              "    <tr>\n",
              "      <th>0</th>\n",
              "      <td>0</td>\n",
              "      <td>1467810369</td>\n",
              "      <td>Mon Apr 06 22:19:45 PDT 2009</td>\n",
              "      <td>NO_QUERY</td>\n",
              "      <td>_TheSpecialOne_</td>\n",
              "      <td>@switchfoot http://twitpic.com/2y1zl - Awww, t...</td>\n",
              "      <td>@switchfoot</td>\n",
              "      <td>2009-04-06 22:19:45</td>\n",
              "      <td>115</td>\n",
              "    </tr>\n",
              "    <tr>\n",
              "      <th>1</th>\n",
              "      <td>0</td>\n",
              "      <td>1467810672</td>\n",
              "      <td>Mon Apr 06 22:19:49 PDT 2009</td>\n",
              "      <td>NO_QUERY</td>\n",
              "      <td>scotthamilton</td>\n",
              "      <td>is upset that he can't update his Facebook by ...</td>\n",
              "      <td>Undefined</td>\n",
              "      <td>2009-04-06 22:19:49</td>\n",
              "      <td>111</td>\n",
              "    </tr>\n",
              "    <tr>\n",
              "      <th>2</th>\n",
              "      <td>0</td>\n",
              "      <td>1467810917</td>\n",
              "      <td>Mon Apr 06 22:19:53 PDT 2009</td>\n",
              "      <td>NO_QUERY</td>\n",
              "      <td>mattycus</td>\n",
              "      <td>@Kenichan I dived many times for the ball. Man...</td>\n",
              "      <td>@Kenichan</td>\n",
              "      <td>2009-04-06 22:19:53</td>\n",
              "      <td>89</td>\n",
              "    </tr>\n",
              "    <tr>\n",
              "      <th>3</th>\n",
              "      <td>0</td>\n",
              "      <td>1467811184</td>\n",
              "      <td>Mon Apr 06 22:19:57 PDT 2009</td>\n",
              "      <td>NO_QUERY</td>\n",
              "      <td>ElleCTF</td>\n",
              "      <td>my whole body feels itchy and like its on fire</td>\n",
              "      <td>Undefined</td>\n",
              "      <td>2009-04-06 22:19:57</td>\n",
              "      <td>47</td>\n",
              "    </tr>\n",
              "    <tr>\n",
              "      <th>4</th>\n",
              "      <td>0</td>\n",
              "      <td>1467811193</td>\n",
              "      <td>Mon Apr 06 22:19:57 PDT 2009</td>\n",
              "      <td>NO_QUERY</td>\n",
              "      <td>Karoli</td>\n",
              "      <td>@nationwideclass no, it's not behaving at all....</td>\n",
              "      <td>@nationwideclass</td>\n",
              "      <td>2009-04-06 22:19:57</td>\n",
              "      <td>111</td>\n",
              "    </tr>\n",
              "  </tbody>\n",
              "</table>\n",
              "</div>"
            ],
            "text/plain": [
              "   sk_id  tweet_number  ...           timestamp tweet_length\n",
              "0      0    1467810369  ... 2009-04-06 22:19:45          115\n",
              "1      0    1467810672  ... 2009-04-06 22:19:49          111\n",
              "2      0    1467810917  ... 2009-04-06 22:19:53           89\n",
              "3      0    1467811184  ... 2009-04-06 22:19:57           47\n",
              "4      0    1467811193  ... 2009-04-06 22:19:57          111\n",
              "\n",
              "[5 rows x 9 columns]"
            ]
          },
          "metadata": {},
          "execution_count": 10
        }
      ]
    },
    {
      "cell_type": "code",
      "metadata": {
        "id": "c8dd6b65-a3bf-4b2f-94e8-49a7da5811e1"
      },
      "source": [
        "#top1_corpus = data.loc[data['tweet_id'].str.contains(top_users[0]), ['tweet_id', 'timestamp', 'content', 'tweet_length']].copy().reset_index(drop = True)\n",
        "corpus1 = data.loc[data['tweet_id'] == top_users[0], ['tweet_id', 'timestamp', 'content', 'tweet_length']].copy().reset_index(drop = True)\n",
        "corpus2 = data.loc[data['tweet_id'] == top_users[1], ['tweet_id', 'timestamp', 'content', 'tweet_length']].copy().reset_index(drop = True)\n",
        "corpus3 = data.loc[data['tweet_id'] == top_users[2], ['tweet_id', 'timestamp', 'content', 'tweet_length']].copy().reset_index(drop = True)"
      ],
      "id": "c8dd6b65-a3bf-4b2f-94e8-49a7da5811e1",
      "execution_count": 11,
      "outputs": []
    },
    {
      "cell_type": "code",
      "metadata": {
        "colab": {
          "base_uri": "https://localhost:8080/",
          "height": 204
        },
        "id": "9226dcb2-4585-4b21-b774-76fe15a36318",
        "outputId": "6e184d13-a389-403c-e5bd-50936d1a2f54"
      },
      "source": [
        "corpus1.head()"
      ],
      "id": "9226dcb2-4585-4b21-b774-76fe15a36318",
      "execution_count": 12,
      "outputs": [
        {
          "output_type": "execute_result",
          "data": {
            "text/html": [
              "<div>\n",
              "<style scoped>\n",
              "    .dataframe tbody tr th:only-of-type {\n",
              "        vertical-align: middle;\n",
              "    }\n",
              "\n",
              "    .dataframe tbody tr th {\n",
              "        vertical-align: top;\n",
              "    }\n",
              "\n",
              "    .dataframe thead th {\n",
              "        text-align: right;\n",
              "    }\n",
              "</style>\n",
              "<table border=\"1\" class=\"dataframe\">\n",
              "  <thead>\n",
              "    <tr style=\"text-align: right;\">\n",
              "      <th></th>\n",
              "      <th>tweet_id</th>\n",
              "      <th>timestamp</th>\n",
              "      <th>content</th>\n",
              "      <th>tweet_length</th>\n",
              "    </tr>\n",
              "  </thead>\n",
              "  <tbody>\n",
              "    <tr>\n",
              "      <th>0</th>\n",
              "      <td>@mileycyrus</td>\n",
              "      <td>2009-04-06 23:30:57</td>\n",
              "      <td>@mileycyrus hahaha dont be like that one time ...</td>\n",
              "      <td>107</td>\n",
              "    </tr>\n",
              "    <tr>\n",
              "      <th>1</th>\n",
              "      <td>@mileycyrus</td>\n",
              "      <td>2009-04-07 00:45:20</td>\n",
              "      <td>@mileycyrus i have the same problem, but it's ...</td>\n",
              "      <td>137</td>\n",
              "    </tr>\n",
              "    <tr>\n",
              "      <th>2</th>\n",
              "      <td>@mileycyrus</td>\n",
              "      <td>2009-04-07 00:49:07</td>\n",
              "      <td>@mileycyrus I guess counting sheep didn't work...</td>\n",
              "      <td>72</td>\n",
              "    </tr>\n",
              "    <tr>\n",
              "      <th>3</th>\n",
              "      <td>@mileycyrus</td>\n",
              "      <td>2009-04-07 00:49:44</td>\n",
              "      <td>@mileycyrus I would too if it meant spending a...</td>\n",
              "      <td>100</td>\n",
              "    </tr>\n",
              "    <tr>\n",
              "      <th>4</th>\n",
              "      <td>@mileycyrus</td>\n",
              "      <td>2009-04-07 00:56:41</td>\n",
              "      <td>@mileycyrus AWWW u seriously have the cutest d...</td>\n",
              "      <td>112</td>\n",
              "    </tr>\n",
              "  </tbody>\n",
              "</table>\n",
              "</div>"
            ],
            "text/plain": [
              "      tweet_id  ... tweet_length\n",
              "0  @mileycyrus  ...          107\n",
              "1  @mileycyrus  ...          137\n",
              "2  @mileycyrus  ...           72\n",
              "3  @mileycyrus  ...          100\n",
              "4  @mileycyrus  ...          112\n",
              "\n",
              "[5 rows x 4 columns]"
            ]
          },
          "metadata": {},
          "execution_count": 12
        }
      ]
    },
    {
      "cell_type": "markdown",
      "metadata": {
        "id": "823ed117-82d1-4d46-912d-3cc7edce8abe"
      },
      "source": [
        "### NLP"
      ],
      "id": "823ed117-82d1-4d46-912d-3cc7edce8abe"
    },
    {
      "cell_type": "code",
      "metadata": {
        "id": "uq-NfI6YIPND"
      },
      "source": [
        "nlp = spacy.load('en_core_web_sm')"
      ],
      "id": "uq-NfI6YIPND",
      "execution_count": 13,
      "outputs": []
    },
    {
      "cell_type": "code",
      "metadata": {
        "id": "f57c2378-b92b-4788-83db-d1594de9216a"
      },
      "source": [
        "def normalizar(doc):\n",
        "    txt = re.sub(r'[^@A-z0-9\\s{1}áéíóúüñÁÉÍÓÚÜ]', '', doc).lower().strip().rstrip('\\n').rstrip('\\r\\n')\n",
        "    txt = re.sub(r' {2}', ' ', txt)\n",
        "    return txt"
      ],
      "id": "f57c2378-b92b-4788-83db-d1594de9216a",
      "execution_count": 14,
      "outputs": []
    },
    {
      "cell_type": "code",
      "metadata": {
        "id": "OM1Y6w1xIuRg"
      },
      "source": [
        "def tokenizar(doc):\n",
        "    return nlp(doc)"
      ],
      "id": "OM1Y6w1xIuRg",
      "execution_count": 15,
      "outputs": []
    },
    {
      "cell_type": "code",
      "metadata": {
        "id": "hQiztrFdNAsJ"
      },
      "source": [
        "def removeStopWords(doc):\n",
        "    #all_stopwords = nlp.Defaults.stop_words\n",
        "    #tokens = [token for token in doc if not token.text in all_stopwords]\n",
        "    tokens = [token for token in doc if not token.is_stop]\n",
        "    return tokens"
      ],
      "id": "hQiztrFdNAsJ",
      "execution_count": 16,
      "outputs": []
    },
    {
      "cell_type": "code",
      "metadata": {
        "id": "xzNFfN8sO5eG"
      },
      "source": [
        "def stemmingLemmating(tokens):\n",
        "    lemmas = [token.lemma_ for token in tokens]\n",
        "    return lemmas"
      ],
      "id": "xzNFfN8sO5eG",
      "execution_count": 17,
      "outputs": []
    },
    {
      "cell_type": "code",
      "metadata": {
        "colab": {
          "base_uri": "https://localhost:8080/",
          "height": 204
        },
        "id": "w9mcXyVbHU0e",
        "outputId": "8b7ec050-bcba-4156-8d61-0126b71792b8"
      },
      "source": [
        "corpus1['norm_content'] = list(map(normalizar, corpus1.content))\n",
        "corpus1['token_content'] = list(map(tokenizar, corpus1.norm_content))\n",
        "corpus1['token_content'] = list(map(removeStopWords, corpus1.token_content))\n",
        "corpus1['token_content'] = list(map(stemmingLemmating, corpus1.token_content))\n",
        "corpus1.head()"
      ],
      "id": "w9mcXyVbHU0e",
      "execution_count": 18,
      "outputs": [
        {
          "output_type": "execute_result",
          "data": {
            "text/html": [
              "<div>\n",
              "<style scoped>\n",
              "    .dataframe tbody tr th:only-of-type {\n",
              "        vertical-align: middle;\n",
              "    }\n",
              "\n",
              "    .dataframe tbody tr th {\n",
              "        vertical-align: top;\n",
              "    }\n",
              "\n",
              "    .dataframe thead th {\n",
              "        text-align: right;\n",
              "    }\n",
              "</style>\n",
              "<table border=\"1\" class=\"dataframe\">\n",
              "  <thead>\n",
              "    <tr style=\"text-align: right;\">\n",
              "      <th></th>\n",
              "      <th>tweet_id</th>\n",
              "      <th>timestamp</th>\n",
              "      <th>content</th>\n",
              "      <th>tweet_length</th>\n",
              "      <th>norm_content</th>\n",
              "      <th>token_content</th>\n",
              "    </tr>\n",
              "  </thead>\n",
              "  <tbody>\n",
              "    <tr>\n",
              "      <th>0</th>\n",
              "      <td>@mileycyrus</td>\n",
              "      <td>2009-04-06 23:30:57</td>\n",
              "      <td>@mileycyrus hahaha dont be like that one time ...</td>\n",
              "      <td>107</td>\n",
              "      <td>@mileycyrus hahaha dont be like that one time ...</td>\n",
              "      <td>[@mileycyrus, hahaha, not, like, time, ny, get...</td>\n",
              "    </tr>\n",
              "    <tr>\n",
              "      <th>1</th>\n",
              "      <td>@mileycyrus</td>\n",
              "      <td>2009-04-07 00:45:20</td>\n",
              "      <td>@mileycyrus i have the same problem, but it's ...</td>\n",
              "      <td>137</td>\n",
              "      <td>@mileycyrus i have the same problem but its 44...</td>\n",
              "      <td>[@mileycyrus, problem, 443, let, count, works1...</td>\n",
              "    </tr>\n",
              "    <tr>\n",
              "      <th>2</th>\n",
              "      <td>@mileycyrus</td>\n",
              "      <td>2009-04-07 00:49:07</td>\n",
              "      <td>@mileycyrus I guess counting sheep didn't work...</td>\n",
              "      <td>72</td>\n",
              "      <td>@mileycyrus i guess counting sheep didnt work ...</td>\n",
              "      <td>[@mileycyrus, guess, count, sheep, not, work, ...</td>\n",
              "    </tr>\n",
              "    <tr>\n",
              "      <th>3</th>\n",
              "      <td>@mileycyrus</td>\n",
              "      <td>2009-04-07 00:49:44</td>\n",
              "      <td>@mileycyrus I would too if it meant spending a...</td>\n",
              "      <td>100</td>\n",
              "      <td>@mileycyrus i would too if it meant spending a...</td>\n",
              "      <td>[@mileycyrus, mean, spend, day, heaven, wmy, m...</td>\n",
              "    </tr>\n",
              "    <tr>\n",
              "      <th>4</th>\n",
              "      <td>@mileycyrus</td>\n",
              "      <td>2009-04-07 00:56:41</td>\n",
              "      <td>@mileycyrus AWWW u seriously have the cutest d...</td>\n",
              "      <td>112</td>\n",
              "      <td>@mileycyrus awww u seriously have the cutest d...</td>\n",
              "      <td>[@mileycyrus, awww, u, seriously, cut, dog, mi...</td>\n",
              "    </tr>\n",
              "  </tbody>\n",
              "</table>\n",
              "</div>"
            ],
            "text/plain": [
              "      tweet_id  ...                                      token_content\n",
              "0  @mileycyrus  ...  [@mileycyrus, hahaha, not, like, time, ny, get...\n",
              "1  @mileycyrus  ...  [@mileycyrus, problem, 443, let, count, works1...\n",
              "2  @mileycyrus  ...  [@mileycyrus, guess, count, sheep, not, work, ...\n",
              "3  @mileycyrus  ...  [@mileycyrus, mean, spend, day, heaven, wmy, m...\n",
              "4  @mileycyrus  ...  [@mileycyrus, awww, u, seriously, cut, dog, mi...\n",
              "\n",
              "[5 rows x 6 columns]"
            ]
          },
          "metadata": {},
          "execution_count": 18
        }
      ]
    },
    {
      "cell_type": "code",
      "metadata": {
        "colab": {
          "base_uri": "https://localhost:8080/",
          "height": 204
        },
        "id": "AbezGouQytuy",
        "outputId": "9ba0d42e-1f6d-4864-ece5-a90e1ce951df"
      },
      "source": [
        "corpus2['norm_content'] = list(map(normalizar, corpus2.content))\n",
        "corpus2['token_content'] = list(map(tokenizar, corpus2.norm_content))\n",
        "corpus2['token_content'] = list(map(removeStopWords, corpus2.token_content))\n",
        "corpus2['token_content'] = list(map(stemmingLemmating, corpus2.token_content))\n",
        "corpus2.head()"
      ],
      "id": "AbezGouQytuy",
      "execution_count": 19,
      "outputs": [
        {
          "output_type": "execute_result",
          "data": {
            "text/html": [
              "<div>\n",
              "<style scoped>\n",
              "    .dataframe tbody tr th:only-of-type {\n",
              "        vertical-align: middle;\n",
              "    }\n",
              "\n",
              "    .dataframe tbody tr th {\n",
              "        vertical-align: top;\n",
              "    }\n",
              "\n",
              "    .dataframe thead th {\n",
              "        text-align: right;\n",
              "    }\n",
              "</style>\n",
              "<table border=\"1\" class=\"dataframe\">\n",
              "  <thead>\n",
              "    <tr style=\"text-align: right;\">\n",
              "      <th></th>\n",
              "      <th>tweet_id</th>\n",
              "      <th>timestamp</th>\n",
              "      <th>content</th>\n",
              "      <th>tweet_length</th>\n",
              "      <th>norm_content</th>\n",
              "      <th>token_content</th>\n",
              "    </tr>\n",
              "  </thead>\n",
              "  <tbody>\n",
              "    <tr>\n",
              "      <th>0</th>\n",
              "      <td>@tommcfly</td>\n",
              "      <td>2009-04-07 00:19:09</td>\n",
              "      <td>@tommcfly hey saw u guys play @ pushover..didn...</td>\n",
              "      <td>138</td>\n",
              "      <td>@tommcfly hey saw u guys play @ pushoverdidnt ...</td>\n",
              "      <td>[@tommcfly, hey, see, u, guy, play, @, pushove...</td>\n",
              "    </tr>\n",
              "    <tr>\n",
              "      <th>1</th>\n",
              "      <td>@tommcfly</td>\n",
              "      <td>2009-04-07 00:26:52</td>\n",
              "      <td>@tommcfly Good morning Tom! Why can't I send y...</td>\n",
              "      <td>131</td>\n",
              "      <td>@tommcfly good morning tom why cant i send you...</td>\n",
              "      <td>[@tommcfly, good, morning, tom, not, send, mes...</td>\n",
              "    </tr>\n",
              "    <tr>\n",
              "      <th>2</th>\n",
              "      <td>@tommcfly</td>\n",
              "      <td>2009-04-07 01:23:07</td>\n",
              "      <td>@tommcfly did you know that johnsons baby use ...</td>\n",
              "      <td>96</td>\n",
              "      <td>@tommcfly did you know that johnsons baby use ...</td>\n",
              "      <td>[@tommcfly, know, johnson, baby, use, animal, ...</td>\n",
              "    </tr>\n",
              "    <tr>\n",
              "      <th>3</th>\n",
              "      <td>@tommcfly</td>\n",
              "      <td>2009-04-07 02:46:02</td>\n",
              "      <td>@tommcfly hey, no chance of adding brighton or...</td>\n",
              "      <td>131</td>\n",
              "      <td>@tommcfly hey no chance of adding brighton or ...</td>\n",
              "      <td>[@tommcfly, hey, chance, add, brighton, eastbo...</td>\n",
              "    </tr>\n",
              "    <tr>\n",
              "      <th>4</th>\n",
              "      <td>@tommcfly</td>\n",
              "      <td>2009-04-07 03:05:49</td>\n",
              "      <td>@tommcfly have fun tom, i need to buy eclipse ...</td>\n",
              "      <td>82</td>\n",
              "      <td>@tommcfly have fun tom i need to buy eclipse t...</td>\n",
              "      <td>[@tommcfly, fun, tom, need, buy, eclipse, mone...</td>\n",
              "    </tr>\n",
              "  </tbody>\n",
              "</table>\n",
              "</div>"
            ],
            "text/plain": [
              "    tweet_id  ...                                      token_content\n",
              "0  @tommcfly  ...  [@tommcfly, hey, see, u, guy, play, @, pushove...\n",
              "1  @tommcfly  ...  [@tommcfly, good, morning, tom, not, send, mes...\n",
              "2  @tommcfly  ...  [@tommcfly, know, johnson, baby, use, animal, ...\n",
              "3  @tommcfly  ...  [@tommcfly, hey, chance, add, brighton, eastbo...\n",
              "4  @tommcfly  ...  [@tommcfly, fun, tom, need, buy, eclipse, mone...\n",
              "\n",
              "[5 rows x 6 columns]"
            ]
          },
          "metadata": {},
          "execution_count": 19
        }
      ]
    },
    {
      "cell_type": "code",
      "metadata": {
        "colab": {
          "base_uri": "https://localhost:8080/",
          "height": 204
        },
        "id": "5y6a1FeZ15ST",
        "outputId": "f5009cd8-7022-450e-96d7-9c0d3b66acb5"
      },
      "source": [
        "corpus3['norm_content'] = list(map(normalizar, corpus3.content))\n",
        "corpus3['token_content'] = list(map(tokenizar, corpus3.norm_content))\n",
        "corpus3['token_content'] = list(map(removeStopWords, corpus3.token_content))\n",
        "corpus3['token_content'] = list(map(stemmingLemmating, corpus3.token_content))\n",
        "corpus3.head()"
      ],
      "id": "5y6a1FeZ15ST",
      "execution_count": 20,
      "outputs": [
        {
          "output_type": "execute_result",
          "data": {
            "text/html": [
              "<div>\n",
              "<style scoped>\n",
              "    .dataframe tbody tr th:only-of-type {\n",
              "        vertical-align: middle;\n",
              "    }\n",
              "\n",
              "    .dataframe tbody tr th {\n",
              "        vertical-align: top;\n",
              "    }\n",
              "\n",
              "    .dataframe thead th {\n",
              "        text-align: right;\n",
              "    }\n",
              "</style>\n",
              "<table border=\"1\" class=\"dataframe\">\n",
              "  <thead>\n",
              "    <tr style=\"text-align: right;\">\n",
              "      <th></th>\n",
              "      <th>tweet_id</th>\n",
              "      <th>timestamp</th>\n",
              "      <th>content</th>\n",
              "      <th>tweet_length</th>\n",
              "      <th>norm_content</th>\n",
              "      <th>token_content</th>\n",
              "    </tr>\n",
              "  </thead>\n",
              "  <tbody>\n",
              "    <tr>\n",
              "      <th>0</th>\n",
              "      <td>@ddlovato</td>\n",
              "      <td>2009-04-06 22:58:30</td>\n",
              "      <td>@ddlovato Do you hate us?? Please don't</td>\n",
              "      <td>40</td>\n",
              "      <td>@ddlovato do you hate us please dont</td>\n",
              "      <td>[@ddlovato, hate, not]</td>\n",
              "    </tr>\n",
              "    <tr>\n",
              "      <th>1</th>\n",
              "      <td>@ddlovato</td>\n",
              "      <td>2009-04-07 07:02:58</td>\n",
              "      <td>@ddlovato Wish that i could see it..  Thats th...</td>\n",
              "      <td>96</td>\n",
              "      <td>@ddlovato wish that i could see it thats the d...</td>\n",
              "      <td>[@ddlovato, wish, s, downside, live, sweden, g...</td>\n",
              "    </tr>\n",
              "    <tr>\n",
              "      <th>2</th>\n",
              "      <td>@ddlovato</td>\n",
              "      <td>2009-04-07 07:05:11</td>\n",
              "      <td>@ddlovato hey demi, wen are you and selena gon...</td>\n",
              "      <td>79</td>\n",
              "      <td>@ddlovato hey demi wen are you and selena gonn...</td>\n",
              "      <td>[@ddlovato, hey, demi, wen, selena, go, to, vi...</td>\n",
              "    </tr>\n",
              "    <tr>\n",
              "      <th>3</th>\n",
              "      <td>@ddlovato</td>\n",
              "      <td>2009-04-17 20:31:31</td>\n",
              "      <td>@ddlovato ahhhh i wish i could go to the dalla...</td>\n",
              "      <td>85</td>\n",
              "      <td>@ddlovato ahhhh i wish i could go to the dalla...</td>\n",
              "      <td>[@ddlovato, ahhhh, wish, dallas, showbut, will...</td>\n",
              "    </tr>\n",
              "    <tr>\n",
              "      <th>4</th>\n",
              "      <td>@ddlovato</td>\n",
              "      <td>2009-04-17 21:56:12</td>\n",
              "      <td>@ddlovato I just saw your tour dates and now I...</td>\n",
              "      <td>116</td>\n",
              "      <td>@ddlovato i just saw your tour dates and now i...</td>\n",
              "      <td>[@ddlovato, see, tour, date, sadyou, come, hou...</td>\n",
              "    </tr>\n",
              "  </tbody>\n",
              "</table>\n",
              "</div>"
            ],
            "text/plain": [
              "    tweet_id  ...                                      token_content\n",
              "0  @ddlovato  ...                             [@ddlovato, hate, not]\n",
              "1  @ddlovato  ...  [@ddlovato, wish, s, downside, live, sweden, g...\n",
              "2  @ddlovato  ...  [@ddlovato, hey, demi, wen, selena, go, to, vi...\n",
              "3  @ddlovato  ...  [@ddlovato, ahhhh, wish, dallas, showbut, will...\n",
              "4  @ddlovato  ...  [@ddlovato, see, tour, date, sadyou, come, hou...\n",
              "\n",
              "[5 rows x 6 columns]"
            ]
          },
          "metadata": {},
          "execution_count": 20
        }
      ]
    },
    {
      "cell_type": "markdown",
      "metadata": {
        "id": "940a58ac-8b6f-404b-967b-54e705dab504"
      },
      "source": [
        "### Bag of Words"
      ],
      "id": "940a58ac-8b6f-404b-967b-54e705dab504"
    },
    {
      "cell_type": "code",
      "metadata": {
        "id": "Q3PiSAK1Gk1e"
      },
      "source": [
        "def calculateFrequencies(vocabulary, tokens):\n",
        "  frequencies = [1 if token in tokens else 0 for token in vocabulary]\n",
        "  return frequencies"
      ],
      "id": "Q3PiSAK1Gk1e",
      "execution_count": 21,
      "outputs": []
    },
    {
      "cell_type": "code",
      "metadata": {
        "id": "950dcbd3-3fa9-4fa7-b117-9cf42c97c071"
      },
      "source": [
        "def generateTF(corpus):\n",
        "  vocabulary = list(set(corpus.token_content.explode(ignore_index = True)))\n",
        "  tfMatrix = corpus.apply(lambda row: calculateFrequencies(vocabulary, row['token_content']), axis = 1)\n",
        "  tfData = pd.DataFrame(list(tfMatrix), columns = vocabulary)\n",
        "  return tfData"
      ],
      "id": "950dcbd3-3fa9-4fa7-b117-9cf42c97c071",
      "execution_count": 22,
      "outputs": []
    },
    {
      "cell_type": "code",
      "metadata": {
        "id": "OdHJfeXxFSCH"
      },
      "source": [
        "tfData1 = generateTF(corpus1)\n",
        "tfData2 = generateTF(corpus2)\n",
        "tfData3 = generateTF(corpus3)"
      ],
      "id": "OdHJfeXxFSCH",
      "execution_count": 23,
      "outputs": []
    },
    {
      "cell_type": "code",
      "metadata": {
        "id": "5CW6A3uPNQC9"
      },
      "source": [
        "topWords1 = tfData1.sum().sort_values(ascending = False)[0:20]\n",
        "topWords2 = tfData2.sum().sort_values(ascending = False)[0:20]\n",
        "topWords3 = tfData3.sum().sort_values(ascending = False)[0:20]"
      ],
      "id": "5CW6A3uPNQC9",
      "execution_count": 24,
      "outputs": []
    },
    {
      "cell_type": "code",
      "metadata": {
        "colab": {
          "base_uri": "https://localhost:8080/"
        },
        "id": "9cHyjcKCSwNP",
        "outputId": "439790ae-3270-40ca-ba72-1fa4c7396e46"
      },
      "source": [
        "topWords1"
      ],
      "id": "9cHyjcKCSwNP",
      "execution_count": 25,
      "outputs": [
        {
          "output_type": "execute_result",
          "data": {
            "text/plain": [
              "@mileycyrus    3979\n",
              "miley           770\n",
              "love            765\n",
              "not             700\n",
              "be              494\n",
              "good            482\n",
              "u               438\n",
              "vote            353\n",
              "come            295\n",
              "hope            268\n",
              "s               248\n",
              "                232\n",
              "win             224\n",
              "like            221\n",
              "go              215\n",
              "award           202\n",
              "movie           194\n",
              "want            186\n",
              "fan             177\n",
              "hey             171\n",
              "dtype: int64"
            ]
          },
          "metadata": {},
          "execution_count": 25
        }
      ]
    },
    {
      "cell_type": "markdown",
      "metadata": {
        "id": "d3385ed8-3767-46a0-aab1-1468b6aa6f3d"
      },
      "source": [
        "### Word Cloud"
      ],
      "id": "d3385ed8-3767-46a0-aab1-1468b6aa6f3d"
    },
    {
      "cell_type": "code",
      "metadata": {
        "id": "0fzjB9HjT_yb"
      },
      "source": [
        "from wordcloud import WordCloud\n",
        "import matplotlib.pyplot as plt"
      ],
      "id": "0fzjB9HjT_yb",
      "execution_count": 26,
      "outputs": []
    },
    {
      "cell_type": "code",
      "metadata": {
        "colab": {
          "base_uri": "https://localhost:8080/",
          "height": 252
        },
        "id": "Vzf6dzUsVvz-",
        "outputId": "bd50aedc-96ae-49ef-ea2f-7d6183760e78"
      },
      "source": [
        "fig, axs = plt.subplots(nrows = 1, ncols = 3, figsize = (25, 25))\n",
        "topWords = [topWords1, topWords2, topWords3]\n",
        "for i in range(0, len(topWords)):\n",
        "  wordcloud = WordCloud(max_font_size=50, max_words=100, background_color=\"white\").generate_from_frequencies(topWords[i].to_dict())\n",
        "  axs[i].imshow(wordcloud, interpolation=\"bilinear\")\n",
        "  axs[i].set_title('Top User_{}: {}'.format(i+1, top_users[i]))\n",
        "  axs[i].axis('off')\n",
        "\n",
        "plt.show()"
      ],
      "id": "Vzf6dzUsVvz-",
      "execution_count": 27,
      "outputs": [
        {
          "output_type": "display_data",
          "data": {
            "image/png": "[encoded data removed]",
            "text/plain": [
              "<Figure size 1800x1800 with 3 Axes>"
            ]
          },
          "metadata": {
            "needs_background": "light"
          }
        }
      ]
    },
    {
      "cell_type": "markdown",
      "metadata": {
        "id": "xPCWDx3eXVwt"
      },
      "source": [
        "**Conclusiones**"
      ],
      "id": "xPCWDx3eXVwt"
    },
    {
      "cell_type": "markdown",
      "metadata": {
        "id": "xGGy6a6XXaHL"
      },
      "source": [
        "\n",
        "\n",
        "1.   El usuario más citado en los tweets es **Miley Cyrus**, cuyo contexto engloba el aprecio de los fans y sus premiaciones de películas\n",
        "2.   El segundo usuario más citado es **Tom Mcfly** con un contexto de aprecio de los fans, su gusto, y demás\n",
        "3.   El tercer usuario más citado es **Demi Lovato**, nuevamente con un contexto de aprecio de los fans, y buenos deseos\n",
        "\n"
      ],
      "id": "xGGy6a6XXaHL"
    }
  ]
}