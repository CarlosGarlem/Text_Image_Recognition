{
 "cells": [
  {
   "cell_type": "code",
   "execution_count": 8,
   "id": "3d96092e-a42b-4c00-be13-8b5a3bf66b99",
   "metadata": {},
   "outputs": [],
   "source": [
    "import pandas as pd\n",
    "import re"
   ]
  },
  {
   "cell_type": "markdown",
   "id": "b206e752-0620-44fc-9766-d2e0ae68b3b1",
   "metadata": {},
   "source": [
    "### Obtencion de datos"
   ]
  },
  {
   "cell_type": "code",
   "execution_count": 4,
   "id": "52d43594-9825-44d1-a808-d3ed45af1dc1",
   "metadata": {},
   "outputs": [
    {
     "data": {
      "text/html": [
       "<div>\n",
       "<style scoped>\n",
       "    .dataframe tbody tr th:only-of-type {\n",
       "        vertical-align: middle;\n",
       "    }\n",
       "\n",
       "    .dataframe tbody tr th {\n",
       "        vertical-align: top;\n",
       "    }\n",
       "\n",
       "    .dataframe thead th {\n",
       "        text-align: right;\n",
       "    }\n",
       "</style>\n",
       "<table border=\"1\" class=\"dataframe\">\n",
       "  <thead>\n",
       "    <tr style=\"text-align: right;\">\n",
       "      <th></th>\n",
       "      <th>sk_id</th>\n",
       "      <th>tweet_id</th>\n",
       "      <th>date</th>\n",
       "      <th>query</th>\n",
       "      <th>user</th>\n",
       "      <th>content</th>\n",
       "    </tr>\n",
       "  </thead>\n",
       "  <tbody>\n",
       "    <tr>\n",
       "      <th>0</th>\n",
       "      <td>0</td>\n",
       "      <td>1467810369</td>\n",
       "      <td>Mon Apr 06 22:19:45 PDT 2009</td>\n",
       "      <td>NO_QUERY</td>\n",
       "      <td>_TheSpecialOne_</td>\n",
       "      <td>@switchfoot http://twitpic.com/2y1zl - Awww, t...</td>\n",
       "    </tr>\n",
       "    <tr>\n",
       "      <th>1</th>\n",
       "      <td>0</td>\n",
       "      <td>1467810672</td>\n",
       "      <td>Mon Apr 06 22:19:49 PDT 2009</td>\n",
       "      <td>NO_QUERY</td>\n",
       "      <td>scotthamilton</td>\n",
       "      <td>is upset that he can't update his Facebook by ...</td>\n",
       "    </tr>\n",
       "    <tr>\n",
       "      <th>2</th>\n",
       "      <td>0</td>\n",
       "      <td>1467810917</td>\n",
       "      <td>Mon Apr 06 22:19:53 PDT 2009</td>\n",
       "      <td>NO_QUERY</td>\n",
       "      <td>mattycus</td>\n",
       "      <td>@Kenichan I dived many times for the ball. Man...</td>\n",
       "    </tr>\n",
       "    <tr>\n",
       "      <th>3</th>\n",
       "      <td>0</td>\n",
       "      <td>1467811184</td>\n",
       "      <td>Mon Apr 06 22:19:57 PDT 2009</td>\n",
       "      <td>NO_QUERY</td>\n",
       "      <td>ElleCTF</td>\n",
       "      <td>my whole body feels itchy and like its on fire</td>\n",
       "    </tr>\n",
       "    <tr>\n",
       "      <th>4</th>\n",
       "      <td>0</td>\n",
       "      <td>1467811193</td>\n",
       "      <td>Mon Apr 06 22:19:57 PDT 2009</td>\n",
       "      <td>NO_QUERY</td>\n",
       "      <td>Karoli</td>\n",
       "      <td>@nationwideclass no, it's not behaving at all....</td>\n",
       "    </tr>\n",
       "  </tbody>\n",
       "</table>\n",
       "</div>"
      ],
      "text/plain": [
       "   sk_id    tweet_id                          date     query             user  \\\n",
       "0      0  1467810369  Mon Apr 06 22:19:45 PDT 2009  NO_QUERY  _TheSpecialOne_   \n",
       "1      0  1467810672  Mon Apr 06 22:19:49 PDT 2009  NO_QUERY    scotthamilton   \n",
       "2      0  1467810917  Mon Apr 06 22:19:53 PDT 2009  NO_QUERY         mattycus   \n",
       "3      0  1467811184  Mon Apr 06 22:19:57 PDT 2009  NO_QUERY          ElleCTF   \n",
       "4      0  1467811193  Mon Apr 06 22:19:57 PDT 2009  NO_QUERY           Karoli   \n",
       "\n",
       "                                             content  \n",
       "0  @switchfoot http://twitpic.com/2y1zl - Awww, t...  \n",
       "1  is upset that he can't update his Facebook by ...  \n",
       "2  @Kenichan I dived many times for the ball. Man...  \n",
       "3    my whole body feels itchy and like its on fire   \n",
       "4  @nationwideclass no, it's not behaving at all....  "
      ]
     },
     "execution_count": 4,
     "metadata": {},
     "output_type": "execute_result"
    }
   ],
   "source": [
    "data = pd.read_csv('./input/training.csv', header = None, names = ['sk_id', 'tweet_id', 'date', 'query', 'user', 'content'])\n",
    "data.head()"
   ]
  },
  {
   "cell_type": "code",
   "execution_count": 7,
   "id": "f0095d62-60b8-4790-acf9-2f8d7f2db74e",
   "metadata": {},
   "outputs": [
    {
     "data": {
      "text/plain": [
       "(1600000, 6)"
      ]
     },
     "execution_count": 7,
     "metadata": {},
     "output_type": "execute_result"
    }
   ],
   "source": [
    "data.shape"
   ]
  },
  {
   "cell_type": "markdown",
   "id": "a7ea6fe5-9e46-4c77-8719-538cddaa04b9",
   "metadata": {},
   "source": [
    "### Top users"
   ]
  },
  {
   "cell_type": "code",
   "execution_count": 59,
   "id": "a99faf85-cb98-4396-92a8-53ee737694be",
   "metadata": {},
   "outputs": [],
   "source": [
    "pattern = r'(@\\w+)'\n",
    "users = []\n",
    "\n",
    "for tweet in data['content']:\n",
    "    match = re.findall(pattern, tweet)\n",
    "    for user in match:\n",
    "        users.append(user)"
   ]
  },
  {
   "cell_type": "code",
   "execution_count": 74,
   "id": "56437467-0bf8-4db0-9b53-7f8cb4f45480",
   "metadata": {},
   "outputs": [
    {
     "name": "stdout",
     "output_type": "stream",
     "text": [
      "@mileycyrus    4500\n",
      "@tommcfly      3887\n",
      "@ddlovato      3467\n",
      "dtype: int64\n"
     ]
    },
    {
     "data": {
      "text/plain": [
       "['@mileycyrus', '@tommcfly', '@ddlovato']"
      ]
     },
     "execution_count": 74,
     "metadata": {},
     "output_type": "execute_result"
    }
   ],
   "source": [
    "users_series = pd.Series(users)\n",
    "print(users_series.value_counts()[0:3])\n",
    "top_users = list(users_series.value_counts()[0:3].index)\n",
    "top_users"
   ]
  },
  {
   "cell_type": "markdown",
   "id": "eeaf1993-7e50-4065-b319-495b7635cda4",
   "metadata": {},
   "source": [
    "### Corpus"
   ]
  },
  {
   "cell_type": "code",
   "execution_count": 121,
   "id": "db2596f1-186b-43e7-a64c-649de3cf447e",
   "metadata": {},
   "outputs": [
    {
     "data": {
      "text/html": [
       "<div>\n",
       "<style scoped>\n",
       "    .dataframe tbody tr th:only-of-type {\n",
       "        vertical-align: middle;\n",
       "    }\n",
       "\n",
       "    .dataframe tbody tr th {\n",
       "        vertical-align: top;\n",
       "    }\n",
       "\n",
       "    .dataframe thead th {\n",
       "        text-align: right;\n",
       "    }\n",
       "</style>\n",
       "<table border=\"1\" class=\"dataframe\">\n",
       "  <thead>\n",
       "    <tr style=\"text-align: right;\">\n",
       "      <th></th>\n",
       "      <th>sk_id</th>\n",
       "      <th>tweet_id</th>\n",
       "      <th>date</th>\n",
       "      <th>query</th>\n",
       "      <th>user</th>\n",
       "      <th>content</th>\n",
       "      <th>timestamp</th>\n",
       "      <th>tweet_length</th>\n",
       "    </tr>\n",
       "  </thead>\n",
       "  <tbody>\n",
       "    <tr>\n",
       "      <th>0</th>\n",
       "      <td>0</td>\n",
       "      <td>1467810369</td>\n",
       "      <td>Mon Apr 06 22:19:45 PDT 2009</td>\n",
       "      <td>NO_QUERY</td>\n",
       "      <td>_TheSpecialOne_</td>\n",
       "      <td>@switchfoot http://twitpic.com/2y1zl - Awww, t...</td>\n",
       "      <td>2009-04-06 22:19:45</td>\n",
       "      <td>115</td>\n",
       "    </tr>\n",
       "    <tr>\n",
       "      <th>1</th>\n",
       "      <td>0</td>\n",
       "      <td>1467810672</td>\n",
       "      <td>Mon Apr 06 22:19:49 PDT 2009</td>\n",
       "      <td>NO_QUERY</td>\n",
       "      <td>scotthamilton</td>\n",
       "      <td>is upset that he can't update his Facebook by ...</td>\n",
       "      <td>2009-04-06 22:19:49</td>\n",
       "      <td>111</td>\n",
       "    </tr>\n",
       "    <tr>\n",
       "      <th>2</th>\n",
       "      <td>0</td>\n",
       "      <td>1467810917</td>\n",
       "      <td>Mon Apr 06 22:19:53 PDT 2009</td>\n",
       "      <td>NO_QUERY</td>\n",
       "      <td>mattycus</td>\n",
       "      <td>@Kenichan I dived many times for the ball. Man...</td>\n",
       "      <td>2009-04-06 22:19:53</td>\n",
       "      <td>89</td>\n",
       "    </tr>\n",
       "    <tr>\n",
       "      <th>3</th>\n",
       "      <td>0</td>\n",
       "      <td>1467811184</td>\n",
       "      <td>Mon Apr 06 22:19:57 PDT 2009</td>\n",
       "      <td>NO_QUERY</td>\n",
       "      <td>ElleCTF</td>\n",
       "      <td>my whole body feels itchy and like its on fire</td>\n",
       "      <td>2009-04-06 22:19:57</td>\n",
       "      <td>47</td>\n",
       "    </tr>\n",
       "    <tr>\n",
       "      <th>4</th>\n",
       "      <td>0</td>\n",
       "      <td>1467811193</td>\n",
       "      <td>Mon Apr 06 22:19:57 PDT 2009</td>\n",
       "      <td>NO_QUERY</td>\n",
       "      <td>Karoli</td>\n",
       "      <td>@nationwideclass no, it's not behaving at all....</td>\n",
       "      <td>2009-04-06 22:19:57</td>\n",
       "      <td>111</td>\n",
       "    </tr>\n",
       "  </tbody>\n",
       "</table>\n",
       "</div>"
      ],
      "text/plain": [
       "   sk_id    tweet_id                          date     query             user  \\\n",
       "0      0  1467810369  Mon Apr 06 22:19:45 PDT 2009  NO_QUERY  _TheSpecialOne_   \n",
       "1      0  1467810672  Mon Apr 06 22:19:49 PDT 2009  NO_QUERY    scotthamilton   \n",
       "2      0  1467810917  Mon Apr 06 22:19:53 PDT 2009  NO_QUERY         mattycus   \n",
       "3      0  1467811184  Mon Apr 06 22:19:57 PDT 2009  NO_QUERY          ElleCTF   \n",
       "4      0  1467811193  Mon Apr 06 22:19:57 PDT 2009  NO_QUERY           Karoli   \n",
       "\n",
       "                                             content           timestamp  \\\n",
       "0  @switchfoot http://twitpic.com/2y1zl - Awww, t... 2009-04-06 22:19:45   \n",
       "1  is upset that he can't update his Facebook by ... 2009-04-06 22:19:49   \n",
       "2  @Kenichan I dived many times for the ball. Man... 2009-04-06 22:19:53   \n",
       "3    my whole body feels itchy and like its on fire  2009-04-06 22:19:57   \n",
       "4  @nationwideclass no, it's not behaving at all.... 2009-04-06 22:19:57   \n",
       "\n",
       "   tweet_length  \n",
       "0           115  \n",
       "1           111  \n",
       "2            89  \n",
       "3            47  \n",
       "4           111  "
      ]
     },
     "execution_count": 121,
     "metadata": {},
     "output_type": "execute_result"
    }
   ],
   "source": [
    "data['tweet_id'] = data['tweet_id'].fillna(value = 'Undefined')\n",
    "data['timestamp'] =  pd.to_datetime(data['date'], format = '%a %b %d %H:%M:%S PDT %Y')\n",
    "data['tweet_length'] = data['content'].str.len()\n",
    "data.head()"
   ]
  },
  {
   "cell_type": "code",
   "execution_count": 127,
   "id": "c8dd6b65-a3bf-4b2f-94e8-49a7da5811e1",
   "metadata": {},
   "outputs": [],
   "source": [
    "top1_corpus = data.loc[data['content'].str.contains(top_users[0]), ['tweet_id', 'timestamp', 'content', 'tweet_length']].copy().reset_index(drop = True)\n",
    "top1_corpus['user'] = top_users[0]\n",
    "\n",
    "top2_corpus = data.loc[data['content'].str.contains(top_users[1]), ['tweet_id', 'timestamp', 'content', 'tweet_length']].copy().reset_index(drop = True)\n",
    "top2_corpus['user'] = top_users[1]\n",
    "\n",
    "top3_corpus = data.loc[data['content'].str.contains(top_users[2]), ['tweet_id', 'timestamp', 'content', 'tweet_length']].copy().reset_index(drop = True)\n",
    "top3_corpus['user'] = top_users[2]"
   ]
  },
  {
   "cell_type": "code",
   "execution_count": 131,
   "id": "9226dcb2-4585-4b21-b774-76fe15a36318",
   "metadata": {},
   "outputs": [
    {
     "data": {
      "text/html": [
       "<div>\n",
       "<style scoped>\n",
       "    .dataframe tbody tr th:only-of-type {\n",
       "        vertical-align: middle;\n",
       "    }\n",
       "\n",
       "    .dataframe tbody tr th {\n",
       "        vertical-align: top;\n",
       "    }\n",
       "\n",
       "    .dataframe thead th {\n",
       "        text-align: right;\n",
       "    }\n",
       "</style>\n",
       "<table border=\"1\" class=\"dataframe\">\n",
       "  <thead>\n",
       "    <tr style=\"text-align: right;\">\n",
       "      <th></th>\n",
       "      <th>tweet_id</th>\n",
       "      <th>timestamp</th>\n",
       "      <th>content</th>\n",
       "      <th>tweet_length</th>\n",
       "      <th>user</th>\n",
       "    </tr>\n",
       "  </thead>\n",
       "  <tbody>\n",
       "    <tr>\n",
       "      <th>0</th>\n",
       "      <td>1468063101</td>\n",
       "      <td>2009-04-06 23:30:57</td>\n",
       "      <td>@mileycyrus hahaha dont be like that one time ...</td>\n",
       "      <td>107</td>\n",
       "      <td>@mileycyrus</td>\n",
       "    </tr>\n",
       "    <tr>\n",
       "      <th>1</th>\n",
       "      <td>1468286517</td>\n",
       "      <td>2009-04-07 00:45:20</td>\n",
       "      <td>@mileycyrus i have the same problem, but it's ...</td>\n",
       "      <td>137</td>\n",
       "      <td>@mileycyrus</td>\n",
       "    </tr>\n",
       "    <tr>\n",
       "      <th>2</th>\n",
       "      <td>1468297110</td>\n",
       "      <td>2009-04-07 00:49:07</td>\n",
       "      <td>@mileycyrus I guess counting sheep didn't work...</td>\n",
       "      <td>72</td>\n",
       "      <td>@mileycyrus</td>\n",
       "    </tr>\n",
       "    <tr>\n",
       "      <th>3</th>\n",
       "      <td>1468298918</td>\n",
       "      <td>2009-04-07 00:49:44</td>\n",
       "      <td>@mileycyrus I would too if it meant spending a...</td>\n",
       "      <td>100</td>\n",
       "      <td>@mileycyrus</td>\n",
       "    </tr>\n",
       "    <tr>\n",
       "      <th>4</th>\n",
       "      <td>1468318249</td>\n",
       "      <td>2009-04-07 00:56:41</td>\n",
       "      <td>@mileycyrus AWWW u seriously have the cutest d...</td>\n",
       "      <td>112</td>\n",
       "      <td>@mileycyrus</td>\n",
       "    </tr>\n",
       "  </tbody>\n",
       "</table>\n",
       "</div>"
      ],
      "text/plain": [
       "     tweet_id           timestamp  \\\n",
       "0  1468063101 2009-04-06 23:30:57   \n",
       "1  1468286517 2009-04-07 00:45:20   \n",
       "2  1468297110 2009-04-07 00:49:07   \n",
       "3  1468298918 2009-04-07 00:49:44   \n",
       "4  1468318249 2009-04-07 00:56:41   \n",
       "\n",
       "                                             content  tweet_length  \\\n",
       "0  @mileycyrus hahaha dont be like that one time ...           107   \n",
       "1  @mileycyrus i have the same problem, but it's ...           137   \n",
       "2  @mileycyrus I guess counting sheep didn't work...            72   \n",
       "3  @mileycyrus I would too if it meant spending a...           100   \n",
       "4  @mileycyrus AWWW u seriously have the cutest d...           112   \n",
       "\n",
       "          user  \n",
       "0  @mileycyrus  \n",
       "1  @mileycyrus  \n",
       "2  @mileycyrus  \n",
       "3  @mileycyrus  \n",
       "4  @mileycyrus  "
      ]
     },
     "execution_count": 131,
     "metadata": {},
     "output_type": "execute_result"
    }
   ],
   "source": [
    "top1_corpus.head()"
   ]
  },
  {
   "cell_type": "markdown",
   "id": "823ed117-82d1-4d46-912d-3cc7edce8abe",
   "metadata": {},
   "source": [
    "### NLP"
   ]
  },
  {
   "cell_type": "code",
   "execution_count": null,
   "id": "f57c2378-b92b-4788-83db-d1594de9216a",
   "metadata": {},
   "outputs": [],
   "source": []
  },
  {
   "cell_type": "markdown",
   "id": "940a58ac-8b6f-404b-967b-54e705dab504",
   "metadata": {},
   "source": [
    "### Bag of Words"
   ]
  },
  {
   "cell_type": "code",
   "execution_count": null,
   "id": "950dcbd3-3fa9-4fa7-b117-9cf42c97c071",
   "metadata": {},
   "outputs": [],
   "source": []
  },
  {
   "cell_type": "markdown",
   "id": "d3385ed8-3767-46a0-aab1-1468b6aa6f3d",
   "metadata": {},
   "source": [
    "### Word Cloud"
   ]
  },
  {
   "cell_type": "code",
   "execution_count": null,
   "id": "e775d173-68f8-4087-8715-8b746d1dc0c3",
   "metadata": {},
   "outputs": [],
   "source": []
  }
 ],
 "metadata": {
  "kernelspec": {
   "display_name": "Python 3",
   "language": "python",
   "name": "python3"
  },
  "language_info": {
   "codemirror_mode": {
    "name": "ipython",
    "version": 3
   },
   "file_extension": ".py",
   "mimetype": "text/x-python",
   "name": "python",
   "nbconvert_exporter": "python",
   "pygments_lexer": "ipython3",
   "version": "3.9.4"
  }
 },
 "nbformat": 4,
 "nbformat_minor": 5
}
